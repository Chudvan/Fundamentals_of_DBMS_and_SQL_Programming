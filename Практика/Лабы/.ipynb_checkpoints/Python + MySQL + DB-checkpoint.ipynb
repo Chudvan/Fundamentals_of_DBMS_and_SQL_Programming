{
 "cells": [
  {
   "cell_type": "code",
   "execution_count": 147,
   "metadata": {},
   "outputs": [],
   "source": [
    "import os\n",
    "\n",
    "path = os.getcwd()"
   ]
  },
  {
   "cell_type": "code",
   "execution_count": 148,
   "metadata": {},
   "outputs": [
    {
     "data": {
      "text/plain": [
       "'/home/ivan/Рабочий стол/Учёба/8 семестр/SQL/Практика/Лабы'"
      ]
     },
     "execution_count": 148,
     "metadata": {},
     "output_type": "execute_result"
    }
   ],
   "source": [
    "path"
   ]
  },
  {
   "cell_type": "code",
   "execution_count": 149,
   "metadata": {},
   "outputs": [
    {
     "data": {
      "text/plain": [
       "[('/home/ivan/Рабочий стол/Учёба/8 семестр/SQL/Практика/Лабы',\n",
       "  ['Use', 'Log', '.ipynb_checkpoints', 'Задания', 'Data'],\n",
       "  ['Чудновец.txt',\n",
       "   'example.csv',\n",
       "   'новикова.txt',\n",
       "   'Python + MySQL + DB.ipynb']),\n",
       " ('/home/ivan/Рабочий стол/Учёба/8 семестр/SQL/Практика/Лабы/Use',\n",
       "  [],\n",
       "  ['Links.txt', 'New.txt']),\n",
       " ('/home/ivan/Рабочий стол/Учёба/8 семестр/SQL/Практика/Лабы/Log',\n",
       "  [],\n",
       "  ['Log(08.03.21).txt', 'Log(10.03.21).txt']),\n",
       " ('/home/ivan/Рабочий стол/Учёба/8 семестр/SQL/Практика/Лабы/.ipynb_checkpoints',\n",
       "  [],\n",
       "  ['Python + MySQL + DB-checkpoint.ipynb']),\n",
       " ('/home/ivan/Рабочий стол/Учёба/8 семестр/SQL/Практика/Лабы/Задания',\n",
       "  [],\n",
       "  ['LABORATORNAYa_RABOTA_2_SQL.doc',\n",
       "   'SQL_laboratornaya_rabota_1_1.docx',\n",
       "   '.~lock.SQL_laboratornaya_rabota_1_1.docx#']),\n",
       " ('/home/ivan/Рабочий стол/Учёба/8 семестр/SQL/Практика/Лабы/Data',\n",
       "  [],\n",
       "  ['ORDERS.data',\n",
       "   'STATE.data',\n",
       "   'MANUFACT.data',\n",
       "   '6.png',\n",
       "   '4.png',\n",
       "   'STOCK.data',\n",
       "   'CUSTOMER.data',\n",
       "   '1.png',\n",
       "   '3.png',\n",
       "   '2.png',\n",
       "   'ITEMS.data',\n",
       "   '5.png'])]"
      ]
     },
     "execution_count": 149,
     "metadata": {},
     "output_type": "execute_result"
    }
   ],
   "source": [
    "list(os.walk(path))"
   ]
  },
  {
   "cell_type": "code",
   "execution_count": 150,
   "metadata": {},
   "outputs": [],
   "source": [
    "dirs = [x[0] for x in os.walk(path)]"
   ]
  },
  {
   "cell_type": "code",
   "execution_count": 151,
   "metadata": {},
   "outputs": [
    {
     "data": {
      "text/plain": [
       "['/home/ivan/Рабочий стол/Учёба/8 семестр/SQL/Практика/Лабы',\n",
       " '/home/ivan/Рабочий стол/Учёба/8 семестр/SQL/Практика/Лабы/Use',\n",
       " '/home/ivan/Рабочий стол/Учёба/8 семестр/SQL/Практика/Лабы/Log',\n",
       " '/home/ivan/Рабочий стол/Учёба/8 семестр/SQL/Практика/Лабы/.ipynb_checkpoints',\n",
       " '/home/ivan/Рабочий стол/Учёба/8 семестр/SQL/Практика/Лабы/Задания',\n",
       " '/home/ivan/Рабочий стол/Учёба/8 семестр/SQL/Практика/Лабы/Data']"
      ]
     },
     "execution_count": 151,
     "metadata": {},
     "output_type": "execute_result"
    }
   ],
   "source": [
    "dirs"
   ]
  },
  {
   "cell_type": "code",
   "execution_count": 152,
   "metadata": {},
   "outputs": [],
   "source": [
    "data_path = dirs[-1]"
   ]
  },
  {
   "cell_type": "code",
   "execution_count": 153,
   "metadata": {},
   "outputs": [
    {
     "data": {
      "text/plain": [
       "'/home/ivan/Рабочий стол/Учёба/8 семестр/SQL/Практика/Лабы/Data'"
      ]
     },
     "execution_count": 153,
     "metadata": {},
     "output_type": "execute_result"
    }
   ],
   "source": [
    "data_path"
   ]
  },
  {
   "cell_type": "code",
   "execution_count": 154,
   "metadata": {},
   "outputs": [],
   "source": [
    "data_list = list(os.walk(data_path))[0][-1]"
   ]
  },
  {
   "cell_type": "code",
   "execution_count": 155,
   "metadata": {},
   "outputs": [
    {
     "data": {
      "text/plain": [
       "['ORDERS.data',\n",
       " 'STATE.data',\n",
       " 'MANUFACT.data',\n",
       " '6.png',\n",
       " '4.png',\n",
       " 'STOCK.data',\n",
       " 'CUSTOMER.data',\n",
       " '1.png',\n",
       " '3.png',\n",
       " '2.png',\n",
       " 'ITEMS.data',\n",
       " '5.png']"
      ]
     },
     "execution_count": 155,
     "metadata": {},
     "output_type": "execute_result"
    }
   ],
   "source": [
    "data_list"
   ]
  },
  {
   "cell_type": "code",
   "execution_count": 156,
   "metadata": {},
   "outputs": [],
   "source": [
    "import csv\n",
    " \n",
    "def csv_reader(file_obj):\n",
    "    \"\"\"\n",
    "    Read a csv file\n",
    "    \"\"\"\n",
    "    reader = csv.reader(file_obj, delimiter='\\t') #, delimiter='\\n'\n",
    "    for row in reader:\n",
    "        for n, i in enumerate(row):\n",
    "            if i == \"\":\n",
    "                row[n] = None\n",
    "        print(row)\n",
    "        #print(\"|\".join(row))"
   ]
  },
  {
   "cell_type": "code",
   "execution_count": 157,
   "metadata": {},
   "outputs": [],
   "source": [
    "def csv_write_to_table(file_obj, table):\n",
    "    \"\"\"\n",
    "    INSERT IN DB\n",
    "    \"\"\"\n",
    "    reader = csv.reader(file_obj, delimiter='\\t') #, delimiter='\\n'\n",
    "    rows = list(reader)\n",
    "    fields = rows[0]\n",
    "    print(','.join(fields))\n",
    "#     \"'%(2)s','%(3)s','%(4)s','%(5)s','%(6)s','%(7)s','%(8)s','%(9)s','%(10)s','%(11)s'\"\n",
    "    \n",
    "    query_template = \"INSERT INTO %(0)s (%(1)s) VALUES (%(2)s);\"\n",
    "    d_general = {'0': table}\n",
    "\n",
    "    con = connect_to_db()\n",
    "    with con:\n",
    "    \n",
    "        cur = con.cursor()\n",
    "\n",
    "        for row in rows[1:]:\n",
    "    #         for n, i in enumerate(row):\n",
    "    #             if i == \"\":\n",
    "    #                 row[n] = None\n",
    "#             print([i for i, val in enumerate(row) if val == ''])\n",
    "#             row[5] = row[5].replace(',', '.') #ITEMS\n",
    "#             row[3] = row[3].replace(',', '.') #STOCK\n",
    "            empty_vals = [i for i, val in enumerate(row) if val == '']\n",
    "            cur_fields = fields.copy()\n",
    "            for count, i in enumerate(empty_vals):\n",
    "                cur_fields.pop(i-count)\n",
    "                row.pop(i-count)\n",
    "            d_general['1'] = ','.join(cur_fields)\n",
    "            d_general['2'] = ','.join([\"'\" + val + \"'\" for val in row])\n",
    "#             print(query_template % d_general)\n",
    "            cur.execute(query_template % d_general)\n",
    "#             cur.fetchone()\n",
    "            con.commit()\n",
    "            print(query_template % d_general)\n",
    "            #print(\"|\".join(row))"
   ]
  },
  {
   "cell_type": "code",
   "execution_count": 128,
   "metadata": {},
   "outputs": [],
   "source": [
    "def csv_write_to_table_2(file_obj, table):\n",
    "    \"\"\"\n",
    "    INSERT IN DB\n",
    "    \"\"\"\n",
    "    reader = csv.reader(file_obj, delimiter='\\t') #, delimiter='\\n'\n",
    "    rows = list(reader)\n",
    "    fields = rows[0]\n",
    "    print(','.join(fields))\n",
    "#     \"'%(2)s','%(3)s','%(4)s','%(5)s','%(6)s','%(7)s','%(8)s','%(9)s','%(10)s','%(11)s'\"\n",
    "    \n",
    "    query_template = \"INSERT INTO %(0)s (%(1)s) VALUES (%(2)s);\"\n",
    "    d_general = {'0': table}\n",
    "\n",
    "    con = connect_to_db()\n",
    "    with con:\n",
    "    \n",
    "        cur = con.cursor()\n",
    "\n",
    "        for row in rows[1:]:\n",
    "    #         for n, i in enumerate(row):\n",
    "    #             if i == \"\":\n",
    "    #                 row[n] = None\n",
    "            row[1] = change_date_str(row[1])\n",
    "            row[6] = change_date_str(row[6])\n",
    "            row[9] = change_date_str(row[9])\n",
    "            row[7] = row[7].replace(',', '.')\n",
    "            row[8] = row[8].replace(',', '.')\n",
    "#             print([i for i, val in enumerate(row) if val == ''])\n",
    "            empty_vals = [i for i, val in enumerate(row) if val == '']\n",
    "            cur_fields = fields.copy()\n",
    "            for count, i in enumerate(empty_vals):\n",
    "                cur_fields.pop(i-count)\n",
    "                row.pop(i-count)\n",
    "            d_general['1'] = ','.join(cur_fields)\n",
    "            d_general['2'] = ','.join([\"'\" + val + \"'\" for val in row])\n",
    "#             print(query_template % d_general)\n",
    "            cur.execute(query_template % d_general)\n",
    "#             cur.fetchone()\n",
    "            con.commit()\n",
    "            print(query_template % d_general)\n",
    "            #print(\"|\".join(row))"
   ]
  },
  {
   "cell_type": "code",
   "execution_count": 158,
   "metadata": {},
   "outputs": [],
   "source": [
    "from datetime import datetime\n",
    "\n",
    "def change_date_str(str_1):\n",
    "    if not str_1:\n",
    "        return str_1\n",
    "    date = datetime.strptime(str_1, \"%d.%m.%Y\")\n",
    "    return date.strftime(\"%Y-%m-%d\")"
   ]
  },
  {
   "cell_type": "code",
   "execution_count": 159,
   "metadata": {},
   "outputs": [],
   "source": [
    "def connect_to_db():\n",
    "    return pymysql.connect(host='localhost', user='root', password='66#r#0cZqe', db='stores')"
   ]
  },
  {
   "cell_type": "code",
   "execution_count": 160,
   "metadata": {},
   "outputs": [],
   "source": [
    "# def create_values_str(row):\n",
    "#     d = dict()\n",
    "#     val_template_list = []\n",
    "#     for i, val in enumerate(range(len(row))):\n",
    "#         d[str(i)] = row[val]\n",
    "#         val_template_list.append(\"'%(\"+ str(i) +\")s'\")\n",
    "#     val_template = ','.join(val_template_list)\n",
    "#     return val_template % "
   ]
  },
  {
   "cell_type": "code",
   "execution_count": 13,
   "metadata": {},
   "outputs": [
    {
     "name": "stdout",
     "output_type": "stream",
     "text": [
      "['ORDER_NUM', 'ORDER_DATE', 'CUSTOMER_NUM', 'SHIP_INSTRUCT', 'BACKLOG', 'PO_NUM', 'SHIP_DATE', 'SHIP_WEIGHT', 'SHIP_CHARGE', 'PAID_DATE']\n",
      "['1001', '20.05.1994', '104', 'express', 'n', 'B77836', '01.06.1994', '20,4', '10', '22.07.1994']\n",
      "['1002', '21.05.1994', '101', 'PO on box; deliver to back door only', 'n', '9270', '26.05.1994', '50,6', '15,3', '03.06.1994']\n",
      "['1003', '22.05.1994', '104', 'express', 'n', 'B77890', '23.05.1994', '35,6', '10,8', '14.06.1994']\n",
      "['1004', '22.05.1994', '106', 'ring bell twice', 'y', '8006', '30.05.1994', '95,8', '19,2', None]\n",
      "['1005', '24.05.1994', '116', 'call before delivery', 'n', '2865', '09.06.1994', '80,8', '16,2', '21.06.1994']\n",
      "['1006', '30.05.1994', '112', 'after 10 am', 'y', 'Q13557', None, '70,8', '14,2', None]\n",
      "['1007', '31.05.1994', '117', None, 'n', '278693', '05.06.1994', '125,9', '25,2', None]\n",
      "['1008', '07.06.1994', '110', 'closed Monday', 'y', 'LZ230', '06.07.1994', '45,6', '13,8', '21.07.1994']\n",
      "['1009', '14.06.1994', '111', 'next door to grocery', 'n', '4745', '21.06.1994', '20,4', '10', '21.08.1994']\n",
      "['1010', '17.06.1994', '115', 'deliver 776 King St. if no answer', 'n', '429Q', '29.06.1994', '40,6', '12,3', '22.08.1994']\n",
      "['1011', '18.06.1994', '104', 'express', 'n', 'B77897', '03.07.1994', '10,4', '5', '29.08.1994']\n",
      "['1012', '18.06.1994', '117', None, 'n', '278701', '29.06.1994', '70,8', '14,2', None]\n",
      "['1013', '22.06.1994', '104', 'express', 'n', 'B77930', '10.07.1994', '60,8', '12,2', '31.07.1994']\n",
      "['1014', '25.06.1994', '106', 'ring bell, kick door loudly', 'n', '8052', '03.07.1994', '40,6', '12,3', '10.07.1994']\n",
      "['1015', '27.06.1994', '110', 'closed Mondays', 'n', 'MA003', '16.07.1994', '20,6', '6,3', '31.08.1994']\n",
      "['1016', '29.06.1994', '119', 'delivery entrance off Camp St.', 'n', 'PC6782', '12.07.1994', '35', '11,8', None]\n",
      "['1017', '09.07.1994', '120', 'North side of clubhouse', 'n', 'DM354331', '13.07.1994', '60', '18', None]\n",
      "['1018', '10.07.1994', '121', 'SW corner of Biltmore Mall', 'n', 'S22942', '13.07.1994', '70,5', '20', '06.08.1994']\n",
      "['1019', '11.07.1994', '122', 'closed til noon Mondays', 'n', 'Z55709', '16.07.1994', '90', '23', '06.08.1994']\n"
     ]
    }
   ],
   "source": [
    "ORDERS_path = data_path + os.sep + data_list[0]\n",
    "with open(ORDERS_path, \"r\") as f_obj:\n",
    "    csv_reader(f_obj)"
   ]
  },
  {
   "cell_type": "code",
   "execution_count": 14,
   "metadata": {},
   "outputs": [
    {
     "name": "stdout",
     "output_type": "stream",
     "text": [
      "['first_name,last_name,address,city,state,zip_code']\n",
      "['Tyrese,Hirthe,1404 Turner Ville,Strackeport,NY,19106-8813']\n",
      "['Jules,Dicki,2410 Estella Cape Suite 061,Lake Nickolasville,ME,00621-7435']\n",
      "['Dedric,Medhurst,6912 Dayna Shoal,Stiedemannberg,SC,43259-2273']\n",
      "[]\n"
     ]
    }
   ],
   "source": [
    "csv_path = path + os.sep + 'example.csv'\n",
    "with open(csv_path, \"r\") as f_obj:\n",
    "    csv_reader(f_obj)"
   ]
  },
  {
   "cell_type": "code",
   "execution_count": 161,
   "metadata": {},
   "outputs": [],
   "source": [
    "import pymysql"
   ]
  },
  {
   "cell_type": "code",
   "execution_count": 162,
   "metadata": {},
   "outputs": [
    {
     "ename": "OperationalError",
     "evalue": "(1050, \"Table 'CHUDNOVETS_CUSTOMER' already exists\")",
     "output_type": "error",
     "traceback": [
      "\u001b[0;31m---------------------------------------------------------------------------\u001b[0m",
      "\u001b[0;31mOperationalError\u001b[0m                          Traceback (most recent call last)",
      "\u001b[0;32m<ipython-input-162-ffaa345f0949>\u001b[0m in \u001b[0;36m<module>\u001b[0;34m\u001b[0m\n\u001b[1;32m      5\u001b[0m \u001b[0;34m\u001b[0m\u001b[0m\n\u001b[1;32m      6\u001b[0m     \u001b[0mcur\u001b[0m \u001b[0;34m=\u001b[0m \u001b[0mcon\u001b[0m\u001b[0;34m.\u001b[0m\u001b[0mcursor\u001b[0m\u001b[0;34m(\u001b[0m\u001b[0;34m)\u001b[0m\u001b[0;34m\u001b[0m\u001b[0;34m\u001b[0m\u001b[0m\n\u001b[0;32m----> 7\u001b[0;31m     cur.execute(\"CREATE TABLE CHUDNOVETS_CUSTOMER (\\\n\u001b[0m\u001b[1;32m      8\u001b[0m     \u001b[0mCUSTOMER_NUM\u001b[0m  \u001b[0mINTEGER\u001b[0m\u001b[0;34m,\u001b[0m\u001b[0;31m\\\u001b[0m\u001b[0;34m\u001b[0m\u001b[0;34m\u001b[0m\u001b[0m\n\u001b[1;32m      9\u001b[0m     \u001b[0mFNAME\u001b[0m         \u001b[0mCHAR\u001b[0m\u001b[0;34m(\u001b[0m\u001b[0;36m15\u001b[0m\u001b[0;34m)\u001b[0m\u001b[0;34m,\u001b[0m\u001b[0;31m\\\u001b[0m\u001b[0;34m\u001b[0m\u001b[0;34m\u001b[0m\u001b[0m\n",
      "\u001b[0;32m~/.local/lib/python3.8/site-packages/pymysql/cursors.py\u001b[0m in \u001b[0;36mexecute\u001b[0;34m(self, query, args)\u001b[0m\n\u001b[1;32m    146\u001b[0m         \u001b[0mquery\u001b[0m \u001b[0;34m=\u001b[0m \u001b[0mself\u001b[0m\u001b[0;34m.\u001b[0m\u001b[0mmogrify\u001b[0m\u001b[0;34m(\u001b[0m\u001b[0mquery\u001b[0m\u001b[0;34m,\u001b[0m \u001b[0margs\u001b[0m\u001b[0;34m)\u001b[0m\u001b[0;34m\u001b[0m\u001b[0;34m\u001b[0m\u001b[0m\n\u001b[1;32m    147\u001b[0m \u001b[0;34m\u001b[0m\u001b[0m\n\u001b[0;32m--> 148\u001b[0;31m         \u001b[0mresult\u001b[0m \u001b[0;34m=\u001b[0m \u001b[0mself\u001b[0m\u001b[0;34m.\u001b[0m\u001b[0m_query\u001b[0m\u001b[0;34m(\u001b[0m\u001b[0mquery\u001b[0m\u001b[0;34m)\u001b[0m\u001b[0;34m\u001b[0m\u001b[0;34m\u001b[0m\u001b[0m\n\u001b[0m\u001b[1;32m    149\u001b[0m         \u001b[0mself\u001b[0m\u001b[0;34m.\u001b[0m\u001b[0m_executed\u001b[0m \u001b[0;34m=\u001b[0m \u001b[0mquery\u001b[0m\u001b[0;34m\u001b[0m\u001b[0;34m\u001b[0m\u001b[0m\n\u001b[1;32m    150\u001b[0m         \u001b[0;32mreturn\u001b[0m \u001b[0mresult\u001b[0m\u001b[0;34m\u001b[0m\u001b[0;34m\u001b[0m\u001b[0m\n",
      "\u001b[0;32m~/.local/lib/python3.8/site-packages/pymysql/cursors.py\u001b[0m in \u001b[0;36m_query\u001b[0;34m(self, q)\u001b[0m\n\u001b[1;32m    308\u001b[0m         \u001b[0mself\u001b[0m\u001b[0;34m.\u001b[0m\u001b[0m_last_executed\u001b[0m \u001b[0;34m=\u001b[0m \u001b[0mq\u001b[0m\u001b[0;34m\u001b[0m\u001b[0;34m\u001b[0m\u001b[0m\n\u001b[1;32m    309\u001b[0m         \u001b[0mself\u001b[0m\u001b[0;34m.\u001b[0m\u001b[0m_clear_result\u001b[0m\u001b[0;34m(\u001b[0m\u001b[0;34m)\u001b[0m\u001b[0;34m\u001b[0m\u001b[0;34m\u001b[0m\u001b[0m\n\u001b[0;32m--> 310\u001b[0;31m         \u001b[0mconn\u001b[0m\u001b[0;34m.\u001b[0m\u001b[0mquery\u001b[0m\u001b[0;34m(\u001b[0m\u001b[0mq\u001b[0m\u001b[0;34m)\u001b[0m\u001b[0;34m\u001b[0m\u001b[0;34m\u001b[0m\u001b[0m\n\u001b[0m\u001b[1;32m    311\u001b[0m         \u001b[0mself\u001b[0m\u001b[0;34m.\u001b[0m\u001b[0m_do_get_result\u001b[0m\u001b[0;34m(\u001b[0m\u001b[0;34m)\u001b[0m\u001b[0;34m\u001b[0m\u001b[0;34m\u001b[0m\u001b[0m\n\u001b[1;32m    312\u001b[0m         \u001b[0;32mreturn\u001b[0m \u001b[0mself\u001b[0m\u001b[0;34m.\u001b[0m\u001b[0mrowcount\u001b[0m\u001b[0;34m\u001b[0m\u001b[0;34m\u001b[0m\u001b[0m\n",
      "\u001b[0;32m~/.local/lib/python3.8/site-packages/pymysql/connections.py\u001b[0m in \u001b[0;36mquery\u001b[0;34m(self, sql, unbuffered)\u001b[0m\n\u001b[1;32m    546\u001b[0m             \u001b[0msql\u001b[0m \u001b[0;34m=\u001b[0m \u001b[0msql\u001b[0m\u001b[0;34m.\u001b[0m\u001b[0mencode\u001b[0m\u001b[0;34m(\u001b[0m\u001b[0mself\u001b[0m\u001b[0;34m.\u001b[0m\u001b[0mencoding\u001b[0m\u001b[0;34m,\u001b[0m \u001b[0;34m\"surrogateescape\"\u001b[0m\u001b[0;34m)\u001b[0m\u001b[0;34m\u001b[0m\u001b[0;34m\u001b[0m\u001b[0m\n\u001b[1;32m    547\u001b[0m         \u001b[0mself\u001b[0m\u001b[0;34m.\u001b[0m\u001b[0m_execute_command\u001b[0m\u001b[0;34m(\u001b[0m\u001b[0mCOMMAND\u001b[0m\u001b[0;34m.\u001b[0m\u001b[0mCOM_QUERY\u001b[0m\u001b[0;34m,\u001b[0m \u001b[0msql\u001b[0m\u001b[0;34m)\u001b[0m\u001b[0;34m\u001b[0m\u001b[0;34m\u001b[0m\u001b[0m\n\u001b[0;32m--> 548\u001b[0;31m         \u001b[0mself\u001b[0m\u001b[0;34m.\u001b[0m\u001b[0m_affected_rows\u001b[0m \u001b[0;34m=\u001b[0m \u001b[0mself\u001b[0m\u001b[0;34m.\u001b[0m\u001b[0m_read_query_result\u001b[0m\u001b[0;34m(\u001b[0m\u001b[0munbuffered\u001b[0m\u001b[0;34m=\u001b[0m\u001b[0munbuffered\u001b[0m\u001b[0;34m)\u001b[0m\u001b[0;34m\u001b[0m\u001b[0;34m\u001b[0m\u001b[0m\n\u001b[0m\u001b[1;32m    549\u001b[0m         \u001b[0;32mreturn\u001b[0m \u001b[0mself\u001b[0m\u001b[0;34m.\u001b[0m\u001b[0m_affected_rows\u001b[0m\u001b[0;34m\u001b[0m\u001b[0;34m\u001b[0m\u001b[0m\n\u001b[1;32m    550\u001b[0m \u001b[0;34m\u001b[0m\u001b[0m\n",
      "\u001b[0;32m~/.local/lib/python3.8/site-packages/pymysql/connections.py\u001b[0m in \u001b[0;36m_read_query_result\u001b[0;34m(self, unbuffered)\u001b[0m\n\u001b[1;32m    773\u001b[0m         \u001b[0;32melse\u001b[0m\u001b[0;34m:\u001b[0m\u001b[0;34m\u001b[0m\u001b[0;34m\u001b[0m\u001b[0m\n\u001b[1;32m    774\u001b[0m             \u001b[0mresult\u001b[0m \u001b[0;34m=\u001b[0m \u001b[0mMySQLResult\u001b[0m\u001b[0;34m(\u001b[0m\u001b[0mself\u001b[0m\u001b[0;34m)\u001b[0m\u001b[0;34m\u001b[0m\u001b[0;34m\u001b[0m\u001b[0m\n\u001b[0;32m--> 775\u001b[0;31m             \u001b[0mresult\u001b[0m\u001b[0;34m.\u001b[0m\u001b[0mread\u001b[0m\u001b[0;34m(\u001b[0m\u001b[0;34m)\u001b[0m\u001b[0;34m\u001b[0m\u001b[0;34m\u001b[0m\u001b[0m\n\u001b[0m\u001b[1;32m    776\u001b[0m         \u001b[0mself\u001b[0m\u001b[0;34m.\u001b[0m\u001b[0m_result\u001b[0m \u001b[0;34m=\u001b[0m \u001b[0mresult\u001b[0m\u001b[0;34m\u001b[0m\u001b[0;34m\u001b[0m\u001b[0m\n\u001b[1;32m    777\u001b[0m         \u001b[0;32mif\u001b[0m \u001b[0mresult\u001b[0m\u001b[0;34m.\u001b[0m\u001b[0mserver_status\u001b[0m \u001b[0;32mis\u001b[0m \u001b[0;32mnot\u001b[0m \u001b[0;32mNone\u001b[0m\u001b[0;34m:\u001b[0m\u001b[0;34m\u001b[0m\u001b[0;34m\u001b[0m\u001b[0m\n",
      "\u001b[0;32m~/.local/lib/python3.8/site-packages/pymysql/connections.py\u001b[0m in \u001b[0;36mread\u001b[0;34m(self)\u001b[0m\n\u001b[1;32m   1154\u001b[0m     \u001b[0;32mdef\u001b[0m \u001b[0mread\u001b[0m\u001b[0;34m(\u001b[0m\u001b[0mself\u001b[0m\u001b[0;34m)\u001b[0m\u001b[0;34m:\u001b[0m\u001b[0;34m\u001b[0m\u001b[0;34m\u001b[0m\u001b[0m\n\u001b[1;32m   1155\u001b[0m         \u001b[0;32mtry\u001b[0m\u001b[0;34m:\u001b[0m\u001b[0;34m\u001b[0m\u001b[0;34m\u001b[0m\u001b[0m\n\u001b[0;32m-> 1156\u001b[0;31m             \u001b[0mfirst_packet\u001b[0m \u001b[0;34m=\u001b[0m \u001b[0mself\u001b[0m\u001b[0;34m.\u001b[0m\u001b[0mconnection\u001b[0m\u001b[0;34m.\u001b[0m\u001b[0m_read_packet\u001b[0m\u001b[0;34m(\u001b[0m\u001b[0;34m)\u001b[0m\u001b[0;34m\u001b[0m\u001b[0;34m\u001b[0m\u001b[0m\n\u001b[0m\u001b[1;32m   1157\u001b[0m \u001b[0;34m\u001b[0m\u001b[0m\n\u001b[1;32m   1158\u001b[0m             \u001b[0;32mif\u001b[0m \u001b[0mfirst_packet\u001b[0m\u001b[0;34m.\u001b[0m\u001b[0mis_ok_packet\u001b[0m\u001b[0;34m(\u001b[0m\u001b[0;34m)\u001b[0m\u001b[0;34m:\u001b[0m\u001b[0;34m\u001b[0m\u001b[0;34m\u001b[0m\u001b[0m\n",
      "\u001b[0;32m~/.local/lib/python3.8/site-packages/pymysql/connections.py\u001b[0m in \u001b[0;36m_read_packet\u001b[0;34m(self, packet_type)\u001b[0m\n\u001b[1;32m    723\u001b[0m             \u001b[0;32mif\u001b[0m \u001b[0mself\u001b[0m\u001b[0;34m.\u001b[0m\u001b[0m_result\u001b[0m \u001b[0;32mis\u001b[0m \u001b[0;32mnot\u001b[0m \u001b[0;32mNone\u001b[0m \u001b[0;32mand\u001b[0m \u001b[0mself\u001b[0m\u001b[0;34m.\u001b[0m\u001b[0m_result\u001b[0m\u001b[0;34m.\u001b[0m\u001b[0munbuffered_active\u001b[0m \u001b[0;32mis\u001b[0m \u001b[0;32mTrue\u001b[0m\u001b[0;34m:\u001b[0m\u001b[0;34m\u001b[0m\u001b[0;34m\u001b[0m\u001b[0m\n\u001b[1;32m    724\u001b[0m                 \u001b[0mself\u001b[0m\u001b[0;34m.\u001b[0m\u001b[0m_result\u001b[0m\u001b[0;34m.\u001b[0m\u001b[0munbuffered_active\u001b[0m \u001b[0;34m=\u001b[0m \u001b[0;32mFalse\u001b[0m\u001b[0;34m\u001b[0m\u001b[0;34m\u001b[0m\u001b[0m\n\u001b[0;32m--> 725\u001b[0;31m             \u001b[0mpacket\u001b[0m\u001b[0;34m.\u001b[0m\u001b[0mraise_for_error\u001b[0m\u001b[0;34m(\u001b[0m\u001b[0;34m)\u001b[0m\u001b[0;34m\u001b[0m\u001b[0;34m\u001b[0m\u001b[0m\n\u001b[0m\u001b[1;32m    726\u001b[0m         \u001b[0;32mreturn\u001b[0m \u001b[0mpacket\u001b[0m\u001b[0;34m\u001b[0m\u001b[0;34m\u001b[0m\u001b[0m\n\u001b[1;32m    727\u001b[0m \u001b[0;34m\u001b[0m\u001b[0m\n",
      "\u001b[0;32m~/.local/lib/python3.8/site-packages/pymysql/protocol.py\u001b[0m in \u001b[0;36mraise_for_error\u001b[0;34m(self)\u001b[0m\n\u001b[1;32m    219\u001b[0m         \u001b[0;32mif\u001b[0m \u001b[0mDEBUG\u001b[0m\u001b[0;34m:\u001b[0m\u001b[0;34m\u001b[0m\u001b[0;34m\u001b[0m\u001b[0m\n\u001b[1;32m    220\u001b[0m             \u001b[0mprint\u001b[0m\u001b[0;34m(\u001b[0m\u001b[0;34m\"errno =\"\u001b[0m\u001b[0;34m,\u001b[0m \u001b[0merrno\u001b[0m\u001b[0;34m)\u001b[0m\u001b[0;34m\u001b[0m\u001b[0;34m\u001b[0m\u001b[0m\n\u001b[0;32m--> 221\u001b[0;31m         \u001b[0merr\u001b[0m\u001b[0;34m.\u001b[0m\u001b[0mraise_mysql_exception\u001b[0m\u001b[0;34m(\u001b[0m\u001b[0mself\u001b[0m\u001b[0;34m.\u001b[0m\u001b[0m_data\u001b[0m\u001b[0;34m)\u001b[0m\u001b[0;34m\u001b[0m\u001b[0;34m\u001b[0m\u001b[0m\n\u001b[0m\u001b[1;32m    222\u001b[0m \u001b[0;34m\u001b[0m\u001b[0m\n\u001b[1;32m    223\u001b[0m     \u001b[0;32mdef\u001b[0m \u001b[0mdump\u001b[0m\u001b[0;34m(\u001b[0m\u001b[0mself\u001b[0m\u001b[0;34m)\u001b[0m\u001b[0;34m:\u001b[0m\u001b[0;34m\u001b[0m\u001b[0;34m\u001b[0m\u001b[0m\n",
      "\u001b[0;32m~/.local/lib/python3.8/site-packages/pymysql/err.py\u001b[0m in \u001b[0;36mraise_mysql_exception\u001b[0;34m(data)\u001b[0m\n\u001b[1;32m    141\u001b[0m     \u001b[0;32mif\u001b[0m \u001b[0merrorclass\u001b[0m \u001b[0;32mis\u001b[0m \u001b[0;32mNone\u001b[0m\u001b[0;34m:\u001b[0m\u001b[0;34m\u001b[0m\u001b[0;34m\u001b[0m\u001b[0m\n\u001b[1;32m    142\u001b[0m         \u001b[0merrorclass\u001b[0m \u001b[0;34m=\u001b[0m \u001b[0mInternalError\u001b[0m \u001b[0;32mif\u001b[0m \u001b[0merrno\u001b[0m \u001b[0;34m<\u001b[0m \u001b[0;36m1000\u001b[0m \u001b[0;32melse\u001b[0m \u001b[0mOperationalError\u001b[0m\u001b[0;34m\u001b[0m\u001b[0;34m\u001b[0m\u001b[0m\n\u001b[0;32m--> 143\u001b[0;31m     \u001b[0;32mraise\u001b[0m \u001b[0merrorclass\u001b[0m\u001b[0;34m(\u001b[0m\u001b[0merrno\u001b[0m\u001b[0;34m,\u001b[0m \u001b[0merrval\u001b[0m\u001b[0;34m)\u001b[0m\u001b[0;34m\u001b[0m\u001b[0;34m\u001b[0m\u001b[0m\n\u001b[0m",
      "\u001b[0;31mOperationalError\u001b[0m: (1050, \"Table 'CHUDNOVETS_CUSTOMER' already exists\")"
     ]
    }
   ],
   "source": [
    "con = pymysql.connect(host='localhost', user='root', \n",
    "    password='66#r#0cZqe', db='stores')\n",
    "\n",
    "with con:\n",
    "    \n",
    "    cur = con.cursor()\n",
    "    cur.execute(\"CREATE TABLE CHUDNOVETS_CUSTOMER (\\\n",
    "    CUSTOMER_NUM  INTEGER,\\\n",
    "    FNAME         CHAR(15),\\\n",
    "    LNAME         CHAR(15),\\\n",
    "    COMPANY       CHAR(20),\\\n",
    "    ADDRESS1      CHAR(20),\\\n",
    "    ADDRESS2      CHAR(20),\\\n",
    "    CITY          CHAR(15),\\\n",
    "    STATE         CHAR(2),\\\n",
    "    ZIPCODE       CHAR(5),\\\n",
    "    PHONE         CHAR(18)\\\n",
    ");\")\n",
    " \n",
    "    cur.fetchone()"
   ]
  },
  {
   "cell_type": "code",
   "execution_count": 164,
   "metadata": {},
   "outputs": [
    {
     "data": {
      "text/plain": [
       "\"INSERT INTO CHUDNOVETS_CUSTOMER (%(0)s) VALUES (%(1)s,'%(2)s','%(3)s','%(4)s','%(5)s','%(6)s','%(7)s','%(8)s','%(9)s','%(10)s');\""
      ]
     },
     "execution_count": 164,
     "metadata": {},
     "output_type": "execute_result"
    }
   ],
   "source": [
    "\"INSERT INTO CHUDNOVETS_CUSTOMER (%(0)s) VALUES (%(1)s,'%(2)s','%(3)s','%(4)s','%(5)s','%(6)s','%(7)s','%(8)s','%(9)s','%(10)s');\""
   ]
  },
  {
   "cell_type": "code",
   "execution_count": 165,
   "metadata": {},
   "outputs": [
    {
     "name": "stdout",
     "output_type": "stream",
     "text": [
      "Ji kk\n"
     ]
    }
   ],
   "source": [
    "print(\"%(1)s %(2)s\" % {'1': \"Ji\", '2': \"kk\"})"
   ]
  },
  {
   "cell_type": "code",
   "execution_count": 166,
   "metadata": {},
   "outputs": [
    {
     "data": {
      "text/plain": [
       "'Ji kk'"
      ]
     },
     "execution_count": 166,
     "metadata": {},
     "output_type": "execute_result"
    }
   ],
   "source": [
    "\"%(1)s %(2)s\" % {'1': \"Ji\", '2': \"kk\"}"
   ]
  },
  {
   "cell_type": "code",
   "execution_count": 167,
   "metadata": {},
   "outputs": [
    {
     "name": "stdout",
     "output_type": "stream",
     "text": [
      "'%(0)s','%(1)s','%(2)s','%(3)s','%(4)s','%(5)s','%(6)s','%(7)s','%(8)s','%(9)s'\n"
     ]
    },
    {
     "data": {
      "text/plain": [
       "{'0': '1001',\n",
       " '1': '20.05.1994',\n",
       " '2': '104',\n",
       " '3': 'express',\n",
       " '4': 'n',\n",
       " '5': 'B77836',\n",
       " '6': '01.06.1994',\n",
       " '7': '20,4',\n",
       " '8': '10',\n",
       " '9': '22.07.1994'}"
      ]
     },
     "execution_count": 167,
     "metadata": {},
     "output_type": "execute_result"
    }
   ],
   "source": [
    "create_values_str(['1001', '20.05.1994', '104', 'express', 'n', 'B77836', '01.06.1994', '20,4', '10', '22.07.1994'])"
   ]
  },
  {
   "cell_type": "code",
   "execution_count": 168,
   "metadata": {},
   "outputs": [
    {
     "data": {
      "text/plain": [
       "'/home/ivan/Рабочий стол/Учёба/8 семестр/SQL/Практика/Лабы/Data/CUSTOMER.data'"
      ]
     },
     "execution_count": 168,
     "metadata": {},
     "output_type": "execute_result"
    }
   ],
   "source": [
    "CUSTOMER_path"
   ]
  },
  {
   "cell_type": "code",
   "execution_count": 169,
   "metadata": {},
   "outputs": [
    {
     "data": {
      "text/plain": [
       "'102,Carole,Sadler,Sports Spot,785 Geary St,,San Francisco,CA,94117,415-822-1289'"
      ]
     },
     "execution_count": 169,
     "metadata": {},
     "output_type": "execute_result"
    }
   ],
   "source": [
    "','.join(['102', 'Carole', 'Sadler', 'Sports Spot', '785 Geary St', '', 'San Francisco', 'CA', '94117', '415-822-1289'])"
   ]
  },
  {
   "cell_type": "code",
   "execution_count": 170,
   "metadata": {},
   "outputs": [
    {
     "data": {
      "text/plain": [
       "\"INSERT INTO CHUDNOVETS_CUSTOMER (CUSTOMER_NUM,FNAME,LNAME,COMPANY,ADDRESS1,ADDRESS2,CITY,STATE,ZIPCODE,PHONE) VALUES ('102','Carole','Sadler','Sports Spot','785 Geary St','','San Francisco','CA','94117','415-822-1289');\""
      ]
     },
     "execution_count": 170,
     "metadata": {},
     "output_type": "execute_result"
    }
   ],
   "source": [
    "\"INSERT INTO CHUDNOVETS_CUSTOMER (CUSTOMER_NUM,FNAME,LNAME,COMPANY,ADDRESS1,ADDRESS2,CITY,STATE,ZIPCODE,PHONE) VALUES ('102','Carole','Sadler','Sports Spot','785 Geary St','','San Francisco','CA','94117','415-822-1289');\""
   ]
  },
  {
   "cell_type": "code",
   "execution_count": 171,
   "metadata": {},
   "outputs": [
    {
     "name": "stdout",
     "output_type": "stream",
     "text": [
      "'1003','22.05.1994','104','express','n','B77890','23.05.1994','35,6','10,8','14.06.1994'\n"
     ]
    }
   ],
   "source": [
    "row = ['1003', '22.05.1994', '104', 'express', 'n', 'B77890', '23.05.1994', '35,6', '10,8', '14.06.1994']\n",
    "print(','.join([\"'\" + val + \"'\" for val in row]))"
   ]
  },
  {
   "cell_type": "code",
   "execution_count": 172,
   "metadata": {},
   "outputs": [],
   "source": [
    "con = pymysql.connect(host='localhost', user='root', \n",
    "    password='66#r#0cZqe', db='stores')\n",
    "\n",
    "with con:\n",
    "    \n",
    "    cur = con.cursor()\n",
    "#     cur.execute(\"INSERT INTO CHUDNOVETS_CUSTOMER (CUSTOMER_NUM,FNAME,LNAME,COMPANY,ADDRESS1,ADDRESS2,CITY,STATE,ZIPCODE,PHONE) VALUES ('101','Ludwig','Pauli','All Sports Supplies','213 Erstwild Court','','Sunnyvale','CA','94086','408-789-8075');\")\n",
    "#     cur.fetchone()\n",
    "    cur.execute(\"SELECT * FROM CHUDNOVETS_CUSTOMER;\")\n",
    "    result = cur.fetchall()"
   ]
  },
  {
   "cell_type": "code",
   "execution_count": 173,
   "metadata": {},
   "outputs": [
    {
     "data": {
      "text/plain": [
       "((101,\n",
       "  'Ludwig',\n",
       "  'Pauli',\n",
       "  'All Sports Supplies',\n",
       "  '213 Erstwild Court',\n",
       "  None,\n",
       "  'Sunnyvale',\n",
       "  'CA',\n",
       "  '94086',\n",
       "  '408-789-8075'),\n",
       " (102,\n",
       "  'Carole',\n",
       "  'Sadler',\n",
       "  'Sports Spot',\n",
       "  '785 Geary St',\n",
       "  None,\n",
       "  'San Francisco',\n",
       "  'CA',\n",
       "  '94117',\n",
       "  '415-822-1289'),\n",
       " (103,\n",
       "  'Philip',\n",
       "  'Currie',\n",
       "  'Phil`s Sports',\n",
       "  '654 Poplar',\n",
       "  'P. O. Box 3498',\n",
       "  'Palo Alto',\n",
       "  'CA',\n",
       "  '94303',\n",
       "  '415-328-4543'),\n",
       " (104,\n",
       "  'Anthony',\n",
       "  'Higgins',\n",
       "  'Play Ball!',\n",
       "  'East Shopping Cntr.',\n",
       "  '422 Bay Road',\n",
       "  'Redwood City',\n",
       "  'CA',\n",
       "  '94026',\n",
       "  '415-368-1100'),\n",
       " (105,\n",
       "  'Raymond',\n",
       "  'Vector',\n",
       "  'Los Altos Sports',\n",
       "  '1899 La Loma Drive',\n",
       "  None,\n",
       "  'Los Altos',\n",
       "  'CA',\n",
       "  '94022',\n",
       "  '415-776-3249'),\n",
       " (106,\n",
       "  'George',\n",
       "  'Watson',\n",
       "  'Watson & Son',\n",
       "  '1143 Carver Place',\n",
       "  None,\n",
       "  'Mountain View',\n",
       "  'CA',\n",
       "  '94063',\n",
       "  '415-389-8789'),\n",
       " (107,\n",
       "  'Charles',\n",
       "  'Ream',\n",
       "  'Athletic Supplies',\n",
       "  '41 Jordan Avenue',\n",
       "  None,\n",
       "  'Palo Alto',\n",
       "  'CA',\n",
       "  '94304',\n",
       "  '415-356-9876'),\n",
       " (108,\n",
       "  'Donald',\n",
       "  'Quinn',\n",
       "  'Quinn`s Sports',\n",
       "  '587 Alvarado',\n",
       "  None,\n",
       "  'Redwood City',\n",
       "  'CA',\n",
       "  '94063',\n",
       "  '415-544-8729'),\n",
       " (109,\n",
       "  'Jane',\n",
       "  'Miller',\n",
       "  'Sport Stuff',\n",
       "  'Mayfair Mart',\n",
       "  '7345 Ross Blvd.',\n",
       "  'Sunnyvale',\n",
       "  'CA',\n",
       "  '94086',\n",
       "  '408-723-8789'),\n",
       " (110,\n",
       "  'Roy',\n",
       "  'Jaeger',\n",
       "  'AA Athletics',\n",
       "  '520 Topaz Way',\n",
       "  None,\n",
       "  'Redwood City',\n",
       "  'CA',\n",
       "  '94062',\n",
       "  '415-743-3611'),\n",
       " (111,\n",
       "  'Frances',\n",
       "  'Keyes',\n",
       "  'Sports Center',\n",
       "  '3199 Sterling Court',\n",
       "  None,\n",
       "  'Sunnyvale',\n",
       "  'CA',\n",
       "  '94085',\n",
       "  '408-277-7245'),\n",
       " (112,\n",
       "  'Margaret',\n",
       "  'Lawson',\n",
       "  'Runners & Others',\n",
       "  '234 Wyandotte Way',\n",
       "  None,\n",
       "  'Los Altos',\n",
       "  'CA',\n",
       "  '94022',\n",
       "  '415-887-7235'),\n",
       " (113,\n",
       "  'Lana',\n",
       "  'Beatty',\n",
       "  'Sportstown',\n",
       "  '654 Oak Grove',\n",
       "  None,\n",
       "  'Menlo Park',\n",
       "  'CA',\n",
       "  '94025',\n",
       "  '415-356-9982'),\n",
       " (114,\n",
       "  'Frank',\n",
       "  'Albertson',\n",
       "  'Sporting Place',\n",
       "  '947 Waverly Place',\n",
       "  None,\n",
       "  'Redwood City',\n",
       "  'CA',\n",
       "  '94062',\n",
       "  '415-886-6677'),\n",
       " (115,\n",
       "  'Alfred',\n",
       "  'Grant',\n",
       "  'Gold Medal Sports',\n",
       "  '776 Gary Avenue',\n",
       "  None,\n",
       "  'Menlo Park',\n",
       "  'CA',\n",
       "  '94025',\n",
       "  '415-356-1123'),\n",
       " (116,\n",
       "  'Jean',\n",
       "  'Parmelee',\n",
       "  'Olympic City',\n",
       "  '1104 Spinosa Drive',\n",
       "  None,\n",
       "  'Mountain View',\n",
       "  'CA',\n",
       "  '94040',\n",
       "  '415-534-8822'),\n",
       " (117,\n",
       "  'Arnold',\n",
       "  'Sipes',\n",
       "  'Kids Korner',\n",
       "  '850 Lytton Court',\n",
       "  None,\n",
       "  'Redwood City',\n",
       "  'CA',\n",
       "  '94063',\n",
       "  '415-245-4578'),\n",
       " (118,\n",
       "  'Dick',\n",
       "  'Baxter',\n",
       "  'Blue Ribbon Sports',\n",
       "  '5427 College',\n",
       "  None,\n",
       "  'Oakland',\n",
       "  'CA',\n",
       "  '94609',\n",
       "  '415-655-0011'),\n",
       " (119,\n",
       "  'Bob',\n",
       "  'Shorter',\n",
       "  'The Triathletes Club',\n",
       "  '2405 Kings Highway',\n",
       "  None,\n",
       "  'Cherry Hill',\n",
       "  'NJ',\n",
       "  '08002',\n",
       "  '609-663-6079'),\n",
       " (120,\n",
       "  'Fred',\n",
       "  'Jewell',\n",
       "  'Century Pro Shop',\n",
       "  '6627 N. 17th Way',\n",
       "  None,\n",
       "  'Phoenix',\n",
       "  'AZ',\n",
       "  '85016',\n",
       "  '602-265-8754'),\n",
       " (121,\n",
       "  'Jason',\n",
       "  'Wallack',\n",
       "  'City Sports',\n",
       "  'Lake Biltmore Mall',\n",
       "  '350 W. 23rd Street',\n",
       "  'Wilmington',\n",
       "  'DE',\n",
       "  '19898',\n",
       "  '302-366-7511'),\n",
       " (122,\n",
       "  'Cathy',\n",
       "  'O`Brian',\n",
       "  'The Sporting Life',\n",
       "  '543 Nassau Street',\n",
       "  None,\n",
       "  'Princeton',\n",
       "  'NJ',\n",
       "  '08540',\n",
       "  '609-342-0054'))"
      ]
     },
     "execution_count": 173,
     "metadata": {},
     "output_type": "execute_result"
    }
   ],
   "source": [
    "result"
   ]
  },
  {
   "cell_type": "code",
   "execution_count": 129,
   "metadata": {},
   "outputs": [
    {
     "name": "stdout",
     "output_type": "stream",
     "text": [
      "CUSTOMER_NUM,FNAME,LNAME,COMPANY,ADDRESS1,ADDRESS2,CITY,STATE,ZIPCODE,PHONE\n",
      "INSERT INTO CHUDNOVETS_CUSTOMER (CUSTOMER_NUM,FNAME,LNAME,COMPANY,ADDRESS1,CITY,STATE,ZIPCODE,PHONE) VALUES ('101','Ludwig','Pauli','All Sports Supplies','213 Erstwild Court','Sunnyvale','CA','94086','408-789-8075');\n",
      "INSERT INTO CHUDNOVETS_CUSTOMER (CUSTOMER_NUM,FNAME,LNAME,COMPANY,ADDRESS1,CITY,STATE,ZIPCODE,PHONE) VALUES ('102','Carole','Sadler','Sports Spot','785 Geary St','San Francisco','CA','94117','415-822-1289');\n",
      "INSERT INTO CHUDNOVETS_CUSTOMER (CUSTOMER_NUM,FNAME,LNAME,COMPANY,ADDRESS1,ADDRESS2,CITY,STATE,ZIPCODE,PHONE) VALUES ('103','Philip','Currie','Phil`s Sports','654 Poplar','P. O. Box 3498','Palo Alto','CA','94303','415-328-4543');\n",
      "INSERT INTO CHUDNOVETS_CUSTOMER (CUSTOMER_NUM,FNAME,LNAME,COMPANY,ADDRESS1,ADDRESS2,CITY,STATE,ZIPCODE,PHONE) VALUES ('104','Anthony','Higgins','Play Ball!','East Shopping Cntr.','422 Bay Road','Redwood City','CA','94026','415-368-1100');\n",
      "INSERT INTO CHUDNOVETS_CUSTOMER (CUSTOMER_NUM,FNAME,LNAME,COMPANY,ADDRESS1,CITY,STATE,ZIPCODE,PHONE) VALUES ('105','Raymond','Vector','Los Altos Sports','1899 La Loma Drive','Los Altos','CA','94022','415-776-3249');\n",
      "INSERT INTO CHUDNOVETS_CUSTOMER (CUSTOMER_NUM,FNAME,LNAME,COMPANY,ADDRESS1,CITY,STATE,ZIPCODE,PHONE) VALUES ('106','George','Watson','Watson & Son','1143 Carver Place','Mountain View','CA','94063','415-389-8789');\n",
      "INSERT INTO CHUDNOVETS_CUSTOMER (CUSTOMER_NUM,FNAME,LNAME,COMPANY,ADDRESS1,CITY,STATE,ZIPCODE,PHONE) VALUES ('107','Charles','Ream','Athletic Supplies','41 Jordan Avenue','Palo Alto','CA','94304','415-356-9876');\n",
      "INSERT INTO CHUDNOVETS_CUSTOMER (CUSTOMER_NUM,FNAME,LNAME,COMPANY,ADDRESS1,CITY,STATE,ZIPCODE,PHONE) VALUES ('108','Donald','Quinn','Quinn`s Sports','587 Alvarado','Redwood City','CA','94063','415-544-8729');\n",
      "INSERT INTO CHUDNOVETS_CUSTOMER (CUSTOMER_NUM,FNAME,LNAME,COMPANY,ADDRESS1,ADDRESS2,CITY,STATE,ZIPCODE,PHONE) VALUES ('109','Jane','Miller','Sport Stuff','Mayfair Mart','7345 Ross Blvd.','Sunnyvale','CA','94086','408-723-8789');\n",
      "INSERT INTO CHUDNOVETS_CUSTOMER (CUSTOMER_NUM,FNAME,LNAME,COMPANY,ADDRESS1,CITY,STATE,ZIPCODE,PHONE) VALUES ('110','Roy','Jaeger','AA Athletics','520 Topaz Way','Redwood City','CA','94062','415-743-3611');\n",
      "INSERT INTO CHUDNOVETS_CUSTOMER (CUSTOMER_NUM,FNAME,LNAME,COMPANY,ADDRESS1,CITY,STATE,ZIPCODE,PHONE) VALUES ('111','Frances','Keyes','Sports Center','3199 Sterling Court','Sunnyvale','CA','94085','408-277-7245');\n",
      "INSERT INTO CHUDNOVETS_CUSTOMER (CUSTOMER_NUM,FNAME,LNAME,COMPANY,ADDRESS1,CITY,STATE,ZIPCODE,PHONE) VALUES ('112','Margaret','Lawson','Runners & Others','234 Wyandotte Way','Los Altos','CA','94022','415-887-7235');\n",
      "INSERT INTO CHUDNOVETS_CUSTOMER (CUSTOMER_NUM,FNAME,LNAME,COMPANY,ADDRESS1,CITY,STATE,ZIPCODE,PHONE) VALUES ('113','Lana','Beatty','Sportstown','654 Oak Grove','Menlo Park','CA','94025','415-356-9982');\n",
      "INSERT INTO CHUDNOVETS_CUSTOMER (CUSTOMER_NUM,FNAME,LNAME,COMPANY,ADDRESS1,CITY,STATE,ZIPCODE,PHONE) VALUES ('114','Frank','Albertson','Sporting Place','947 Waverly Place','Redwood City','CA','94062','415-886-6677');\n",
      "INSERT INTO CHUDNOVETS_CUSTOMER (CUSTOMER_NUM,FNAME,LNAME,COMPANY,ADDRESS1,CITY,STATE,ZIPCODE,PHONE) VALUES ('115','Alfred','Grant','Gold Medal Sports','776 Gary Avenue','Menlo Park','CA','94025','415-356-1123');\n",
      "INSERT INTO CHUDNOVETS_CUSTOMER (CUSTOMER_NUM,FNAME,LNAME,COMPANY,ADDRESS1,CITY,STATE,ZIPCODE,PHONE) VALUES ('116','Jean','Parmelee','Olympic City','1104 Spinosa Drive','Mountain View','CA','94040','415-534-8822');\n",
      "INSERT INTO CHUDNOVETS_CUSTOMER (CUSTOMER_NUM,FNAME,LNAME,COMPANY,ADDRESS1,CITY,STATE,ZIPCODE,PHONE) VALUES ('117','Arnold','Sipes','Kids Korner','850 Lytton Court','Redwood City','CA','94063','415-245-4578');\n",
      "INSERT INTO CHUDNOVETS_CUSTOMER (CUSTOMER_NUM,FNAME,LNAME,COMPANY,ADDRESS1,CITY,STATE,ZIPCODE,PHONE) VALUES ('118','Dick','Baxter','Blue Ribbon Sports','5427 College','Oakland','CA','94609','415-655-0011');\n",
      "INSERT INTO CHUDNOVETS_CUSTOMER (CUSTOMER_NUM,FNAME,LNAME,COMPANY,ADDRESS1,CITY,STATE,ZIPCODE,PHONE) VALUES ('119','Bob','Shorter','The Triathletes Club','2405 Kings Highway','Cherry Hill','NJ','08002','609-663-6079');\n",
      "INSERT INTO CHUDNOVETS_CUSTOMER (CUSTOMER_NUM,FNAME,LNAME,COMPANY,ADDRESS1,CITY,STATE,ZIPCODE,PHONE) VALUES ('120','Fred','Jewell','Century Pro Shop','6627 N. 17th Way','Phoenix','AZ','85016','602-265-8754');\n",
      "INSERT INTO CHUDNOVETS_CUSTOMER (CUSTOMER_NUM,FNAME,LNAME,COMPANY,ADDRESS1,ADDRESS2,CITY,STATE,ZIPCODE,PHONE) VALUES ('121','Jason','Wallack','City Sports','Lake Biltmore Mall','350 W. 23rd Street','Wilmington','DE','19898','302-366-7511');\n",
      "INSERT INTO CHUDNOVETS_CUSTOMER (CUSTOMER_NUM,FNAME,LNAME,COMPANY,ADDRESS1,CITY,STATE,ZIPCODE,PHONE) VALUES ('122','Cathy','O`Brian','The Sporting Life','543 Nassau Street','Princeton','NJ','08540','609-342-0054');\n"
     ]
    }
   ],
   "source": [
    "CUSTOMER_path = data_path + os.sep + data_list[6]\n",
    "with open(CUSTOMER_path, \"r\") as f_obj:\n",
    "    csv_write_to_table(f_obj, 'CHUDNOVETS_CUSTOMER')"
   ]
  },
  {
   "cell_type": "code",
   "execution_count": 130,
   "metadata": {},
   "outputs": [
    {
     "name": "stdout",
     "output_type": "stream",
     "text": [
      "ORDER_NUM,ORDER_DATE,CUSTOMER_NUM,SHIP_INSTRUCT,BACKLOG,PO_NUM,SHIP_DATE,SHIP_WEIGHT,SHIP_CHARGE,PAID_DATE\n",
      "INSERT INTO CHUDNOVETS_ORDERS (ORDER_NUM,ORDER_DATE,CUSTOMER_NUM,SHIP_INSTRUCT,BACKLOG,PO_NUM,SHIP_DATE,SHIP_WEIGHT,SHIP_CHARGE,PAID_DATE) VALUES ('1001','1994-05-20','104','express','n','B77836','1994-06-01','20.4','10','1994-07-22');\n",
      "INSERT INTO CHUDNOVETS_ORDERS (ORDER_NUM,ORDER_DATE,CUSTOMER_NUM,SHIP_INSTRUCT,BACKLOG,PO_NUM,SHIP_DATE,SHIP_WEIGHT,SHIP_CHARGE,PAID_DATE) VALUES ('1002','1994-05-21','101','PO on box; deliver to back door only','n','9270','1994-05-26','50.6','15.3','1994-06-03');\n",
      "INSERT INTO CHUDNOVETS_ORDERS (ORDER_NUM,ORDER_DATE,CUSTOMER_NUM,SHIP_INSTRUCT,BACKLOG,PO_NUM,SHIP_DATE,SHIP_WEIGHT,SHIP_CHARGE,PAID_DATE) VALUES ('1003','1994-05-22','104','express','n','B77890','1994-05-23','35.6','10.8','1994-06-14');\n",
      "INSERT INTO CHUDNOVETS_ORDERS (ORDER_NUM,ORDER_DATE,CUSTOMER_NUM,SHIP_INSTRUCT,BACKLOG,PO_NUM,SHIP_DATE,SHIP_WEIGHT,SHIP_CHARGE) VALUES ('1004','1994-05-22','106','ring bell twice','y','8006','1994-05-30','95.8','19.2');\n",
      "INSERT INTO CHUDNOVETS_ORDERS (ORDER_NUM,ORDER_DATE,CUSTOMER_NUM,SHIP_INSTRUCT,BACKLOG,PO_NUM,SHIP_DATE,SHIP_WEIGHT,SHIP_CHARGE,PAID_DATE) VALUES ('1005','1994-05-24','116','call before delivery','n','2865','1994-06-09','80.8','16.2','1994-06-21');\n",
      "INSERT INTO CHUDNOVETS_ORDERS (ORDER_NUM,ORDER_DATE,CUSTOMER_NUM,SHIP_INSTRUCT,BACKLOG,PO_NUM,SHIP_WEIGHT,SHIP_CHARGE) VALUES ('1006','1994-05-30','112','after 10 am','y','Q13557','70.8','14.2');\n",
      "INSERT INTO CHUDNOVETS_ORDERS (ORDER_NUM,ORDER_DATE,CUSTOMER_NUM,BACKLOG,PO_NUM,SHIP_DATE,SHIP_WEIGHT,SHIP_CHARGE) VALUES ('1007','1994-05-31','117','n','278693','1994-06-05','125.9','25.2');\n",
      "INSERT INTO CHUDNOVETS_ORDERS (ORDER_NUM,ORDER_DATE,CUSTOMER_NUM,SHIP_INSTRUCT,BACKLOG,PO_NUM,SHIP_DATE,SHIP_WEIGHT,SHIP_CHARGE,PAID_DATE) VALUES ('1008','1994-06-07','110','closed Monday','y','LZ230','1994-07-06','45.6','13.8','1994-07-21');\n",
      "INSERT INTO CHUDNOVETS_ORDERS (ORDER_NUM,ORDER_DATE,CUSTOMER_NUM,SHIP_INSTRUCT,BACKLOG,PO_NUM,SHIP_DATE,SHIP_WEIGHT,SHIP_CHARGE,PAID_DATE) VALUES ('1009','1994-06-14','111','next door to grocery','n','4745','1994-06-21','20.4','10','1994-08-21');\n",
      "INSERT INTO CHUDNOVETS_ORDERS (ORDER_NUM,ORDER_DATE,CUSTOMER_NUM,SHIP_INSTRUCT,BACKLOG,PO_NUM,SHIP_DATE,SHIP_WEIGHT,SHIP_CHARGE,PAID_DATE) VALUES ('1010','1994-06-17','115','deliver 776 King St. if no answer','n','429Q','1994-06-29','40.6','12.3','1994-08-22');\n",
      "INSERT INTO CHUDNOVETS_ORDERS (ORDER_NUM,ORDER_DATE,CUSTOMER_NUM,SHIP_INSTRUCT,BACKLOG,PO_NUM,SHIP_DATE,SHIP_WEIGHT,SHIP_CHARGE,PAID_DATE) VALUES ('1011','1994-06-18','104','express','n','B77897','1994-07-03','10.4','5','1994-08-29');\n",
      "INSERT INTO CHUDNOVETS_ORDERS (ORDER_NUM,ORDER_DATE,CUSTOMER_NUM,BACKLOG,PO_NUM,SHIP_DATE,SHIP_WEIGHT,SHIP_CHARGE) VALUES ('1012','1994-06-18','117','n','278701','1994-06-29','70.8','14.2');\n",
      "INSERT INTO CHUDNOVETS_ORDERS (ORDER_NUM,ORDER_DATE,CUSTOMER_NUM,SHIP_INSTRUCT,BACKLOG,PO_NUM,SHIP_DATE,SHIP_WEIGHT,SHIP_CHARGE,PAID_DATE) VALUES ('1013','1994-06-22','104','express','n','B77930','1994-07-10','60.8','12.2','1994-07-31');\n",
      "INSERT INTO CHUDNOVETS_ORDERS (ORDER_NUM,ORDER_DATE,CUSTOMER_NUM,SHIP_INSTRUCT,BACKLOG,PO_NUM,SHIP_DATE,SHIP_WEIGHT,SHIP_CHARGE,PAID_DATE) VALUES ('1014','1994-06-25','106','ring bell, kick door loudly','n','8052','1994-07-03','40.6','12.3','1994-07-10');\n",
      "INSERT INTO CHUDNOVETS_ORDERS (ORDER_NUM,ORDER_DATE,CUSTOMER_NUM,SHIP_INSTRUCT,BACKLOG,PO_NUM,SHIP_DATE,SHIP_WEIGHT,SHIP_CHARGE,PAID_DATE) VALUES ('1015','1994-06-27','110','closed Mondays','n','MA003','1994-07-16','20.6','6.3','1994-08-31');\n",
      "INSERT INTO CHUDNOVETS_ORDERS (ORDER_NUM,ORDER_DATE,CUSTOMER_NUM,SHIP_INSTRUCT,BACKLOG,PO_NUM,SHIP_DATE,SHIP_WEIGHT,SHIP_CHARGE) VALUES ('1016','1994-06-29','119','delivery entrance off Camp St.','n','PC6782','1994-07-12','35','11.8');\n",
      "INSERT INTO CHUDNOVETS_ORDERS (ORDER_NUM,ORDER_DATE,CUSTOMER_NUM,SHIP_INSTRUCT,BACKLOG,PO_NUM,SHIP_DATE,SHIP_WEIGHT,SHIP_CHARGE) VALUES ('1017','1994-07-09','120','North side of clubhouse','n','DM354331','1994-07-13','60','18');\n",
      "INSERT INTO CHUDNOVETS_ORDERS (ORDER_NUM,ORDER_DATE,CUSTOMER_NUM,SHIP_INSTRUCT,BACKLOG,PO_NUM,SHIP_DATE,SHIP_WEIGHT,SHIP_CHARGE,PAID_DATE) VALUES ('1018','1994-07-10','121','SW corner of Biltmore Mall','n','S22942','1994-07-13','70.5','20','1994-08-06');\n",
      "INSERT INTO CHUDNOVETS_ORDERS (ORDER_NUM,ORDER_DATE,CUSTOMER_NUM,SHIP_INSTRUCT,BACKLOG,PO_NUM,SHIP_DATE,SHIP_WEIGHT,SHIP_CHARGE,PAID_DATE) VALUES ('1019','1994-07-11','122','closed til noon Mondays','n','Z55709','1994-07-16','90','23','1994-08-06');\n"
     ]
    }
   ],
   "source": [
    "ORDERS_path = data_path + os.sep + data_list[0]\n",
    "with open(ORDERS_path, \"r\") as f_obj:\n",
    "    csv_write_to_table_2(f_obj, 'CHUDNOVETS_ORDERS')"
   ]
  },
  {
   "cell_type": "code",
   "execution_count": 135,
   "metadata": {},
   "outputs": [
    {
     "name": "stdout",
     "output_type": "stream",
     "text": [
      "ITEM_NUM,ORDER_NUM,STOCK_NUM,MANU_CODE,QUANTITY,TOTAL_PRICE\n",
      "INSERT INTO CHUDNOVETS_ITEMS (ITEM_NUM,ORDER_NUM,STOCK_NUM,MANU_CODE,QUANTITY,TOTAL_PRICE) VALUES ('1','1001','1','HRO','1','250');\n",
      "INSERT INTO CHUDNOVETS_ITEMS (ITEM_NUM,ORDER_NUM,STOCK_NUM,MANU_CODE,QUANTITY,TOTAL_PRICE) VALUES ('1','1002','4','HSK','1','960');\n",
      "INSERT INTO CHUDNOVETS_ITEMS (ITEM_NUM,ORDER_NUM,STOCK_NUM,MANU_CODE,QUANTITY,TOTAL_PRICE) VALUES ('1','1003','9','ANZ','1','20');\n",
      "INSERT INTO CHUDNOVETS_ITEMS (ITEM_NUM,ORDER_NUM,STOCK_NUM,MANU_CODE,QUANTITY,TOTAL_PRICE) VALUES ('1','1004','1','HRO','1','250');\n",
      "INSERT INTO CHUDNOVETS_ITEMS (ITEM_NUM,ORDER_NUM,STOCK_NUM,MANU_CODE,QUANTITY,TOTAL_PRICE) VALUES ('1','1005','5','NRG','10','280');\n",
      "INSERT INTO CHUDNOVETS_ITEMS (ITEM_NUM,ORDER_NUM,STOCK_NUM,MANU_CODE,QUANTITY,TOTAL_PRICE) VALUES ('1','1006','5','SMT','5','125');\n",
      "INSERT INTO CHUDNOVETS_ITEMS (ITEM_NUM,ORDER_NUM,STOCK_NUM,MANU_CODE,QUANTITY,TOTAL_PRICE) VALUES ('1','1007','1','HRO','1','250');\n",
      "INSERT INTO CHUDNOVETS_ITEMS (ITEM_NUM,ORDER_NUM,STOCK_NUM,MANU_CODE,QUANTITY,TOTAL_PRICE) VALUES ('1','1008','8','ANZ','1','840');\n",
      "INSERT INTO CHUDNOVETS_ITEMS (ITEM_NUM,ORDER_NUM,STOCK_NUM,MANU_CODE,QUANTITY,TOTAL_PRICE) VALUES ('1','1009','1','SMT','1','450');\n",
      "INSERT INTO CHUDNOVETS_ITEMS (ITEM_NUM,ORDER_NUM,STOCK_NUM,MANU_CODE,QUANTITY,TOTAL_PRICE) VALUES ('1','1010','6','SMT','1','36');\n",
      "INSERT INTO CHUDNOVETS_ITEMS (ITEM_NUM,ORDER_NUM,STOCK_NUM,MANU_CODE,QUANTITY,TOTAL_PRICE) VALUES ('1','1011','5','ANZ','5','99');\n",
      "INSERT INTO CHUDNOVETS_ITEMS (ITEM_NUM,ORDER_NUM,STOCK_NUM,MANU_CODE,QUANTITY,TOTAL_PRICE) VALUES ('1','1012','8','ANZ','1','840');\n",
      "INSERT INTO CHUDNOVETS_ITEMS (ITEM_NUM,ORDER_NUM,STOCK_NUM,MANU_CODE,QUANTITY,TOTAL_PRICE) VALUES ('1','1013','5','ANZ','1','19.8');\n",
      "INSERT INTO CHUDNOVETS_ITEMS (ITEM_NUM,ORDER_NUM,STOCK_NUM,MANU_CODE,QUANTITY,TOTAL_PRICE) VALUES ('1','1014','4','HSK','1','960');\n",
      "INSERT INTO CHUDNOVETS_ITEMS (ITEM_NUM,ORDER_NUM,STOCK_NUM,MANU_CODE,QUANTITY,TOTAL_PRICE) VALUES ('1','1015','1','SMT','1','450');\n",
      "INSERT INTO CHUDNOVETS_ITEMS (ITEM_NUM,ORDER_NUM,STOCK_NUM,MANU_CODE,QUANTITY,TOTAL_PRICE) VALUES ('1','1016','101','SHM','2','136');\n",
      "INSERT INTO CHUDNOVETS_ITEMS (ITEM_NUM,ORDER_NUM,STOCK_NUM,MANU_CODE,QUANTITY,TOTAL_PRICE) VALUES ('1','1017','201','NKL','4','150');\n",
      "INSERT INTO CHUDNOVETS_ITEMS (ITEM_NUM,ORDER_NUM,STOCK_NUM,MANU_CODE,QUANTITY,TOTAL_PRICE) VALUES ('1','1018','307','PRC','2','500');\n",
      "INSERT INTO CHUDNOVETS_ITEMS (ITEM_NUM,ORDER_NUM,STOCK_NUM,MANU_CODE,QUANTITY,TOTAL_PRICE) VALUES ('1','1019','111','SHM','3','1499.97');\n",
      "INSERT INTO CHUDNOVETS_ITEMS (ITEM_NUM,ORDER_NUM,STOCK_NUM,MANU_CODE,QUANTITY,TOTAL_PRICE) VALUES ('2','1002','3','HSK','1','240');\n",
      "INSERT INTO CHUDNOVETS_ITEMS (ITEM_NUM,ORDER_NUM,STOCK_NUM,MANU_CODE,QUANTITY,TOTAL_PRICE) VALUES ('2','1003','8','ANZ','1','840');\n",
      "INSERT INTO CHUDNOVETS_ITEMS (ITEM_NUM,ORDER_NUM,STOCK_NUM,MANU_CODE,QUANTITY,TOTAL_PRICE) VALUES ('2','1004','2','HRO','1','126');\n",
      "INSERT INTO CHUDNOVETS_ITEMS (ITEM_NUM,ORDER_NUM,STOCK_NUM,MANU_CODE,QUANTITY,TOTAL_PRICE) VALUES ('2','1005','5','ANZ','10','198');\n",
      "INSERT INTO CHUDNOVETS_ITEMS (ITEM_NUM,ORDER_NUM,STOCK_NUM,MANU_CODE,QUANTITY,TOTAL_PRICE) VALUES ('2','1006','5','NRG','5','140');\n",
      "INSERT INTO CHUDNOVETS_ITEMS (ITEM_NUM,ORDER_NUM,STOCK_NUM,MANU_CODE,QUANTITY,TOTAL_PRICE) VALUES ('2','1007','2','HRO','1','126');\n",
      "INSERT INTO CHUDNOVETS_ITEMS (ITEM_NUM,ORDER_NUM,STOCK_NUM,MANU_CODE,QUANTITY,TOTAL_PRICE) VALUES ('2','1008','9','ANZ','5','100');\n",
      "INSERT INTO CHUDNOVETS_ITEMS (ITEM_NUM,ORDER_NUM,STOCK_NUM,MANU_CODE,QUANTITY,TOTAL_PRICE) VALUES ('2','1010','6','ANZ','1','48');\n",
      "INSERT INTO CHUDNOVETS_ITEMS (ITEM_NUM,ORDER_NUM,STOCK_NUM,MANU_CODE,QUANTITY,TOTAL_PRICE) VALUES ('2','1012','9','ANZ','10','200');\n",
      "INSERT INTO CHUDNOVETS_ITEMS (ITEM_NUM,ORDER_NUM,STOCK_NUM,MANU_CODE,QUANTITY,TOTAL_PRICE) VALUES ('2','1013','6','SMT','1','36');\n",
      "INSERT INTO CHUDNOVETS_ITEMS (ITEM_NUM,ORDER_NUM,STOCK_NUM,MANU_CODE,QUANTITY,TOTAL_PRICE) VALUES ('2','1014','4','HRO','1','480');\n",
      "INSERT INTO CHUDNOVETS_ITEMS (ITEM_NUM,ORDER_NUM,STOCK_NUM,MANU_CODE,QUANTITY,TOTAL_PRICE) VALUES ('2','1016','109','PRC','3','90');\n",
      "INSERT INTO CHUDNOVETS_ITEMS (ITEM_NUM,ORDER_NUM,STOCK_NUM,MANU_CODE,QUANTITY,TOTAL_PRICE) VALUES ('2','1017','202','KAR','1','230');\n",
      "INSERT INTO CHUDNOVETS_ITEMS (ITEM_NUM,ORDER_NUM,STOCK_NUM,MANU_CODE,QUANTITY,TOTAL_PRICE) VALUES ('2','1018','302','KAR','3','15');\n",
      "INSERT INTO CHUDNOVETS_ITEMS (ITEM_NUM,ORDER_NUM,STOCK_NUM,MANU_CODE,QUANTITY,TOTAL_PRICE) VALUES ('3','1003','5','ANZ','5','99');\n",
      "INSERT INTO CHUDNOVETS_ITEMS (ITEM_NUM,ORDER_NUM,STOCK_NUM,MANU_CODE,QUANTITY,TOTAL_PRICE) VALUES ('3','1004','3','HSK','1','240');\n",
      "INSERT INTO CHUDNOVETS_ITEMS (ITEM_NUM,ORDER_NUM,STOCK_NUM,MANU_CODE,QUANTITY,TOTAL_PRICE) VALUES ('3','1005','6','SMT','1','36');\n",
      "INSERT INTO CHUDNOVETS_ITEMS (ITEM_NUM,ORDER_NUM,STOCK_NUM,MANU_CODE,QUANTITY,TOTAL_PRICE) VALUES ('3','1006','5','ANZ','5','99');\n",
      "INSERT INTO CHUDNOVETS_ITEMS (ITEM_NUM,ORDER_NUM,STOCK_NUM,MANU_CODE,QUANTITY,TOTAL_PRICE) VALUES ('3','1007','3','HSK','1','240');\n",
      "INSERT INTO CHUDNOVETS_ITEMS (ITEM_NUM,ORDER_NUM,STOCK_NUM,MANU_CODE,QUANTITY,TOTAL_PRICE) VALUES ('3','1013','6','ANZ','1','48');\n",
      "INSERT INTO CHUDNOVETS_ITEMS (ITEM_NUM,ORDER_NUM,STOCK_NUM,MANU_CODE,QUANTITY,TOTAL_PRICE) VALUES ('3','1016','110','HSK','1','308');\n",
      "INSERT INTO CHUDNOVETS_ITEMS (ITEM_NUM,ORDER_NUM,STOCK_NUM,MANU_CODE,QUANTITY,TOTAL_PRICE) VALUES ('3','1017','301','SHM','2','204');\n",
      "INSERT INTO CHUDNOVETS_ITEMS (ITEM_NUM,ORDER_NUM,STOCK_NUM,MANU_CODE,QUANTITY,TOTAL_PRICE) VALUES ('3','1018','110','PRC','1','236');\n",
      "INSERT INTO CHUDNOVETS_ITEMS (ITEM_NUM,ORDER_NUM,STOCK_NUM,MANU_CODE,QUANTITY,TOTAL_PRICE) VALUES ('4','1004','1','HSK','1','800');\n",
      "INSERT INTO CHUDNOVETS_ITEMS (ITEM_NUM,ORDER_NUM,STOCK_NUM,MANU_CODE,QUANTITY,TOTAL_PRICE) VALUES ('4','1005','6','ANZ','1','48');\n",
      "INSERT INTO CHUDNOVETS_ITEMS (ITEM_NUM,ORDER_NUM,STOCK_NUM,MANU_CODE,QUANTITY,TOTAL_PRICE) VALUES ('4','1006','6','SMT','1','36');\n",
      "INSERT INTO CHUDNOVETS_ITEMS (ITEM_NUM,ORDER_NUM,STOCK_NUM,MANU_CODE,QUANTITY,TOTAL_PRICE) VALUES ('4','1007','4','HRO','1','480');\n",
      "INSERT INTO CHUDNOVETS_ITEMS (ITEM_NUM,ORDER_NUM,STOCK_NUM,MANU_CODE,QUANTITY,TOTAL_PRICE) VALUES ('4','1013','9','ANZ','2','40');\n",
      "INSERT INTO CHUDNOVETS_ITEMS (ITEM_NUM,ORDER_NUM,STOCK_NUM,MANU_CODE,QUANTITY,TOTAL_PRICE) VALUES ('4','1016','114','PRC','1','120');\n",
      "INSERT INTO CHUDNOVETS_ITEMS (ITEM_NUM,ORDER_NUM,STOCK_NUM,MANU_CODE,QUANTITY,TOTAL_PRICE) VALUES ('4','1018','5','SMT','4','100');\n",
      "INSERT INTO CHUDNOVETS_ITEMS (ITEM_NUM,ORDER_NUM,STOCK_NUM,MANU_CODE,QUANTITY,TOTAL_PRICE) VALUES ('5','1006','6','ANZ','1','48');\n",
      "INSERT INTO CHUDNOVETS_ITEMS (ITEM_NUM,ORDER_NUM,STOCK_NUM,MANU_CODE,QUANTITY,TOTAL_PRICE) VALUES ('5','1007','7','HRO','1','600');\n",
      "INSERT INTO CHUDNOVETS_ITEMS (ITEM_NUM,ORDER_NUM,STOCK_NUM,MANU_CODE,QUANTITY,TOTAL_PRICE) VALUES ('5','1018','304','HRO','1','280');\n"
     ]
    }
   ],
   "source": [
    "ITEMS_path = data_path + os.sep + data_list[10]\n",
    "with open(ITEMS_path, \"r\") as f_obj:\n",
    "    csv_write_to_table(f_obj, 'CHUDNOVETS_ITEMS')"
   ]
  },
  {
   "cell_type": "code",
   "execution_count": 140,
   "metadata": {},
   "outputs": [
    {
     "name": "stdout",
     "output_type": "stream",
     "text": [
      "STOCK_NUM,MANU_CODE,DESCRIPTION,UNIT_PRICE,UNIT,UNIT_DESCR\n",
      "INSERT INTO CHUDNOVETS_STOCK (STOCK_NUM,MANU_CODE,DESCRIPTION,UNIT_PRICE,UNIT,UNIT_DESCR) VALUES ('1','HRO','baseball gloves','250','case','10 gloves/case');\n",
      "INSERT INTO CHUDNOVETS_STOCK (STOCK_NUM,MANU_CODE,DESCRIPTION,UNIT_PRICE,UNIT,UNIT_DESCR) VALUES ('1','HSK','baseball gloves','800','case','10 gloves/case');\n",
      "INSERT INTO CHUDNOVETS_STOCK (STOCK_NUM,MANU_CODE,DESCRIPTION,UNIT_PRICE,UNIT,UNIT_DESCR) VALUES ('1','SMT','baseball gloves','450','case','10 gloves/case');\n",
      "INSERT INTO CHUDNOVETS_STOCK (STOCK_NUM,MANU_CODE,DESCRIPTION,UNIT_PRICE,UNIT,UNIT_DESCR) VALUES ('2','HRO','baseball','126','case','24/case');\n",
      "INSERT INTO CHUDNOVETS_STOCK (STOCK_NUM,MANU_CODE,DESCRIPTION,UNIT_PRICE,UNIT,UNIT_DESCR) VALUES ('3','HSK','baseball bat','240','case','12/case');\n",
      "INSERT INTO CHUDNOVETS_STOCK (STOCK_NUM,MANU_CODE,DESCRIPTION,UNIT_PRICE,UNIT,UNIT_DESCR) VALUES ('3','SHM','baseball bat','280','case','12/case');\n",
      "INSERT INTO CHUDNOVETS_STOCK (STOCK_NUM,MANU_CODE,DESCRIPTION,UNIT_PRICE,UNIT,UNIT_DESCR) VALUES ('4','HRO','football','480','case','24/case');\n",
      "INSERT INTO CHUDNOVETS_STOCK (STOCK_NUM,MANU_CODE,DESCRIPTION,UNIT_PRICE,UNIT,UNIT_DESCR) VALUES ('4','HSK','football','960','case','24/case');\n",
      "INSERT INTO CHUDNOVETS_STOCK (STOCK_NUM,MANU_CODE,DESCRIPTION,UNIT_PRICE,UNIT,UNIT_DESCR) VALUES ('5','ANZ','tennis racquet','19.8','each','each');\n",
      "INSERT INTO CHUDNOVETS_STOCK (STOCK_NUM,MANU_CODE,DESCRIPTION,UNIT_PRICE,UNIT,UNIT_DESCR) VALUES ('5','NRG','tennis racquet','28','each','each');\n",
      "INSERT INTO CHUDNOVETS_STOCK (STOCK_NUM,MANU_CODE,DESCRIPTION,UNIT_PRICE,UNIT,UNIT_DESCR) VALUES ('5','SMT','tennis racquet','25','each','each');\n",
      "INSERT INTO CHUDNOVETS_STOCK (STOCK_NUM,MANU_CODE,DESCRIPTION,UNIT_PRICE,UNIT,UNIT_DESCR) VALUES ('6','ANZ','tennis ball','48','case','24 cans/case');\n",
      "INSERT INTO CHUDNOVETS_STOCK (STOCK_NUM,MANU_CODE,DESCRIPTION,UNIT_PRICE,UNIT,UNIT_DESCR) VALUES ('6','SMT','tennis ball','36','case','24 cans/case');\n",
      "INSERT INTO CHUDNOVETS_STOCK (STOCK_NUM,MANU_CODE,DESCRIPTION,UNIT_PRICE,UNIT,UNIT_DESCR) VALUES ('7','HRO','basketball','600','case','24/case');\n",
      "INSERT INTO CHUDNOVETS_STOCK (STOCK_NUM,MANU_CODE,DESCRIPTION,UNIT_PRICE,UNIT,UNIT_DESCR) VALUES ('8','ANZ','volleyball','840','case','24/case');\n",
      "INSERT INTO CHUDNOVETS_STOCK (STOCK_NUM,MANU_CODE,DESCRIPTION,UNIT_PRICE,UNIT,UNIT_DESCR) VALUES ('9','ANZ','volleyball net','20','each','each');\n",
      "INSERT INTO CHUDNOVETS_STOCK (STOCK_NUM,MANU_CODE,DESCRIPTION,UNIT_PRICE,UNIT,UNIT_DESCR) VALUES ('101','PRC','bicycle tires','88','box','4/box');\n",
      "INSERT INTO CHUDNOVETS_STOCK (STOCK_NUM,MANU_CODE,DESCRIPTION,UNIT_PRICE,UNIT,UNIT_DESCR) VALUES ('101','SHM','bicycle tires','68','box','4/box');\n",
      "INSERT INTO CHUDNOVETS_STOCK (STOCK_NUM,MANU_CODE,DESCRIPTION,UNIT_PRICE,UNIT,UNIT_DESCR) VALUES ('102','PRC','bicycle brakes','480','case','4 sets/case');\n",
      "INSERT INTO CHUDNOVETS_STOCK (STOCK_NUM,MANU_CODE,DESCRIPTION,UNIT_PRICE,UNIT,UNIT_DESCR) VALUES ('102','SHM','bicycle brakes','220','case','4 sets/case');\n",
      "INSERT INTO CHUDNOVETS_STOCK (STOCK_NUM,MANU_CODE,DESCRIPTION,UNIT_PRICE,UNIT,UNIT_DESCR) VALUES ('103','PRC','frnt derailleur','20','each','each');\n",
      "INSERT INTO CHUDNOVETS_STOCK (STOCK_NUM,MANU_CODE,DESCRIPTION,UNIT_PRICE,UNIT,UNIT_DESCR) VALUES ('104','PRC','rear derailleur','58','each','each');\n",
      "INSERT INTO CHUDNOVETS_STOCK (STOCK_NUM,MANU_CODE,DESCRIPTION,UNIT_PRICE,UNIT,UNIT_DESCR) VALUES ('105','PRC','bicycle wheels','53','pair','pair');\n",
      "INSERT INTO CHUDNOVETS_STOCK (STOCK_NUM,MANU_CODE,DESCRIPTION,UNIT_PRICE,UNIT,UNIT_DESCR) VALUES ('105','SHM','bicycle wheels','80','pair','pair');\n",
      "INSERT INTO CHUDNOVETS_STOCK (STOCK_NUM,MANU_CODE,DESCRIPTION,UNIT_PRICE,UNIT,UNIT_DESCR) VALUES ('106','PRC','bicycle stem','23','each','each');\n",
      "INSERT INTO CHUDNOVETS_STOCK (STOCK_NUM,MANU_CODE,DESCRIPTION,UNIT_PRICE,UNIT,UNIT_DESCR) VALUES ('107','PRC','bicycle saddle','70','pair','pair');\n",
      "INSERT INTO CHUDNOVETS_STOCK (STOCK_NUM,MANU_CODE,DESCRIPTION,UNIT_PRICE,UNIT,UNIT_DESCR) VALUES ('108','SHM','crankset','45','each','each');\n",
      "INSERT INTO CHUDNOVETS_STOCK (STOCK_NUM,MANU_CODE,DESCRIPTION,UNIT_PRICE,UNIT,UNIT_DESCR) VALUES ('109','PRC','pedal binding','30','case','6 pairs/case');\n",
      "INSERT INTO CHUDNOVETS_STOCK (STOCK_NUM,MANU_CODE,DESCRIPTION,UNIT_PRICE,UNIT,UNIT_DESCR) VALUES ('109','SHM','pedal binding','200','case','4 pairs/case');\n",
      "INSERT INTO CHUDNOVETS_STOCK (STOCK_NUM,MANU_CODE,DESCRIPTION,UNIT_PRICE,UNIT,UNIT_DESCR) VALUES ('110','ANZ','helmet','244','case','4/case');\n",
      "INSERT INTO CHUDNOVETS_STOCK (STOCK_NUM,MANU_CODE,DESCRIPTION,UNIT_PRICE,UNIT,UNIT_DESCR) VALUES ('110','HRO','helmet','260','case','4/case');\n",
      "INSERT INTO CHUDNOVETS_STOCK (STOCK_NUM,MANU_CODE,DESCRIPTION,UNIT_PRICE,UNIT,UNIT_DESCR) VALUES ('110','HSK','helmet','308','case','4/case');\n",
      "INSERT INTO CHUDNOVETS_STOCK (STOCK_NUM,MANU_CODE,DESCRIPTION,UNIT_PRICE,UNIT,UNIT_DESCR) VALUES ('110','PRC','helmet','236','case','4/case');\n",
      "INSERT INTO CHUDNOVETS_STOCK (STOCK_NUM,MANU_CODE,DESCRIPTION,UNIT_PRICE,UNIT,UNIT_DESCR) VALUES ('110','SHM','helmet','228','case','4/case');\n",
      "INSERT INTO CHUDNOVETS_STOCK (STOCK_NUM,MANU_CODE,DESCRIPTION,UNIT_PRICE,UNIT,UNIT_DESCR) VALUES ('111','SHM','10-spd, assmbld','499.99','each','each');\n",
      "INSERT INTO CHUDNOVETS_STOCK (STOCK_NUM,MANU_CODE,DESCRIPTION,UNIT_PRICE,UNIT,UNIT_DESCR) VALUES ('112','SHM','12-spd, assmbld','549','each','each');\n",
      "INSERT INTO CHUDNOVETS_STOCK (STOCK_NUM,MANU_CODE,DESCRIPTION,UNIT_PRICE,UNIT,UNIT_DESCR) VALUES ('113','SHM','18-spd, assmbld','685.9','each','each');\n",
      "INSERT INTO CHUDNOVETS_STOCK (STOCK_NUM,MANU_CODE,DESCRIPTION,UNIT_PRICE,UNIT,UNIT_DESCR) VALUES ('114','PRC','bicycle gloves','120','case','10 pairs/case');\n",
      "INSERT INTO CHUDNOVETS_STOCK (STOCK_NUM,MANU_CODE,DESCRIPTION,UNIT_PRICE,UNIT,UNIT_DESCR) VALUES ('201','ANZ','golf shoes','75','each','each');\n",
      "INSERT INTO CHUDNOVETS_STOCK (STOCK_NUM,MANU_CODE,DESCRIPTION,UNIT_PRICE,UNIT,UNIT_DESCR) VALUES ('201','KAR','golf shoes','90','each','each');\n",
      "INSERT INTO CHUDNOVETS_STOCK (STOCK_NUM,MANU_CODE,DESCRIPTION,UNIT_PRICE,UNIT,UNIT_DESCR) VALUES ('201','NKL','golf shoes','37.5','each','each');\n",
      "INSERT INTO CHUDNOVETS_STOCK (STOCK_NUM,MANU_CODE,DESCRIPTION,UNIT_PRICE,UNIT,UNIT_DESCR) VALUES ('202','KAR','std woods','230','case','2 sets/case');\n",
      "INSERT INTO CHUDNOVETS_STOCK (STOCK_NUM,MANU_CODE,DESCRIPTION,UNIT_PRICE,UNIT,UNIT_DESCR) VALUES ('202','NKL','metal woods','174','case','2 sets/case');\n",
      "INSERT INTO CHUDNOVETS_STOCK (STOCK_NUM,MANU_CODE,DESCRIPTION,UNIT_PRICE,UNIT,UNIT_DESCR) VALUES ('203','NKL','irons/wedge','670','case','2 sets/case');\n",
      "INSERT INTO CHUDNOVETS_STOCK (STOCK_NUM,MANU_CODE,DESCRIPTION,UNIT_PRICE,UNIT,UNIT_DESCR) VALUES ('204','KAR','putter','45','each','each');\n",
      "INSERT INTO CHUDNOVETS_STOCK (STOCK_NUM,MANU_CODE,DESCRIPTION,UNIT_PRICE,UNIT,UNIT_DESCR) VALUES ('205','ANZ','3 golf balls','312','case','24/case');\n",
      "INSERT INTO CHUDNOVETS_STOCK (STOCK_NUM,MANU_CODE,DESCRIPTION,UNIT_PRICE,UNIT,UNIT_DESCR) VALUES ('205','HRO','3 golf balls','312','case','24/case');\n",
      "INSERT INTO CHUDNOVETS_STOCK (STOCK_NUM,MANU_CODE,DESCRIPTION,UNIT_PRICE,UNIT,UNIT_DESCR) VALUES ('205','NKL','3 golf balls','312','case','24/case');\n",
      "INSERT INTO CHUDNOVETS_STOCK (STOCK_NUM,MANU_CODE,DESCRIPTION,UNIT_PRICE,UNIT,UNIT_DESCR) VALUES ('301','ANZ','running shoes','95','each','each');\n",
      "INSERT INTO CHUDNOVETS_STOCK (STOCK_NUM,MANU_CODE,DESCRIPTION,UNIT_PRICE,UNIT,UNIT_DESCR) VALUES ('301','HRO','running shoes','42.5','each','each');\n",
      "INSERT INTO CHUDNOVETS_STOCK (STOCK_NUM,MANU_CODE,DESCRIPTION,UNIT_PRICE,UNIT,UNIT_DESCR) VALUES ('301','KAR','running shoes','87','each','each');\n",
      "INSERT INTO CHUDNOVETS_STOCK (STOCK_NUM,MANU_CODE,DESCRIPTION,UNIT_PRICE,UNIT,UNIT_DESCR) VALUES ('301','NKL','running shoes','97','each','each');\n",
      "INSERT INTO CHUDNOVETS_STOCK (STOCK_NUM,MANU_CODE,DESCRIPTION,UNIT_PRICE,UNIT,UNIT_DESCR) VALUES ('301','PRC','running shoes','75','each','each');\n",
      "INSERT INTO CHUDNOVETS_STOCK (STOCK_NUM,MANU_CODE,DESCRIPTION,UNIT_PRICE,UNIT,UNIT_DESCR) VALUES ('301','SHM','running shoes','102','each','each');\n",
      "INSERT INTO CHUDNOVETS_STOCK (STOCK_NUM,MANU_CODE,DESCRIPTION,UNIT_PRICE,UNIT,UNIT_DESCR) VALUES ('302','HRO','ice pack','4.5','each','each');\n",
      "INSERT INTO CHUDNOVETS_STOCK (STOCK_NUM,MANU_CODE,DESCRIPTION,UNIT_PRICE,UNIT,UNIT_DESCR) VALUES ('302','KAR','ice pack','5','each','each');\n",
      "INSERT INTO CHUDNOVETS_STOCK (STOCK_NUM,MANU_CODE,DESCRIPTION,UNIT_PRICE,UNIT,UNIT_DESCR) VALUES ('303','KAR','socks','36','box','24 pairs/box');\n",
      "INSERT INTO CHUDNOVETS_STOCK (STOCK_NUM,MANU_CODE,DESCRIPTION,UNIT_PRICE,UNIT,UNIT_DESCR) VALUES ('303','PRC','socks','48','box','24 pairs/box');\n",
      "INSERT INTO CHUDNOVETS_STOCK (STOCK_NUM,MANU_CODE,DESCRIPTION,UNIT_PRICE,UNIT,UNIT_DESCR) VALUES ('304','ANZ','watch','170','box','10/box');\n",
      "INSERT INTO CHUDNOVETS_STOCK (STOCK_NUM,MANU_CODE,DESCRIPTION,UNIT_PRICE,UNIT,UNIT_DESCR) VALUES ('304','HRO','watch','280','box','10/box');\n",
      "INSERT INTO CHUDNOVETS_STOCK (STOCK_NUM,MANU_CODE,DESCRIPTION,UNIT_PRICE,UNIT,UNIT_DESCR) VALUES ('305','HRO','first-aid kit','48','case','4/case');\n",
      "INSERT INTO CHUDNOVETS_STOCK (STOCK_NUM,MANU_CODE,DESCRIPTION,UNIT_PRICE,UNIT,UNIT_DESCR) VALUES ('306','PRC','tandem adapter','160','each','each');\n",
      "INSERT INTO CHUDNOVETS_STOCK (STOCK_NUM,MANU_CODE,DESCRIPTION,UNIT_PRICE,UNIT,UNIT_DESCR) VALUES ('306','SHM','tandem adapter','190','each','each');\n",
      "INSERT INTO CHUDNOVETS_STOCK (STOCK_NUM,MANU_CODE,DESCRIPTION,UNIT_PRICE,UNIT,UNIT_DESCR) VALUES ('307','PRC','infant jogger','250','each','each');\n",
      "INSERT INTO CHUDNOVETS_STOCK (STOCK_NUM,MANU_CODE,DESCRIPTION,UNIT_PRICE,UNIT,UNIT_DESCR) VALUES ('308','PRC','twin jogger','280','each','each');\n",
      "INSERT INTO CHUDNOVETS_STOCK (STOCK_NUM,MANU_CODE,DESCRIPTION,UNIT_PRICE,UNIT,UNIT_DESCR) VALUES ('309','HRO','ear drops','40','case','20/case');\n",
      "INSERT INTO CHUDNOVETS_STOCK (STOCK_NUM,MANU_CODE,DESCRIPTION,UNIT_PRICE,UNIT,UNIT_DESCR) VALUES ('309','SHM','ear drops','40','case','20/case');\n",
      "INSERT INTO CHUDNOVETS_STOCK (STOCK_NUM,MANU_CODE,DESCRIPTION,UNIT_PRICE,UNIT,UNIT_DESCR) VALUES ('310','ANZ','kick board','84','case','12/case');\n",
      "INSERT INTO CHUDNOVETS_STOCK (STOCK_NUM,MANU_CODE,DESCRIPTION,UNIT_PRICE,UNIT,UNIT_DESCR) VALUES ('310','SHM','kick board','80','case','10/case');\n",
      "INSERT INTO CHUDNOVETS_STOCK (STOCK_NUM,MANU_CODE,DESCRIPTION,UNIT_PRICE,UNIT,UNIT_DESCR) VALUES ('311','SHM','water gloves','48','box','4 pairs/box');\n",
      "INSERT INTO CHUDNOVETS_STOCK (STOCK_NUM,MANU_CODE,DESCRIPTION,UNIT_PRICE,UNIT,UNIT_DESCR) VALUES ('312','HRO','racer goggles','72','box','12/box');\n"
     ]
    },
    {
     "name": "stdout",
     "output_type": "stream",
     "text": [
      "INSERT INTO CHUDNOVETS_STOCK (STOCK_NUM,MANU_CODE,DESCRIPTION,UNIT_PRICE,UNIT,UNIT_DESCR) VALUES ('312','SHM','racer goggles','96','box','12/box');\n",
      "INSERT INTO CHUDNOVETS_STOCK (STOCK_NUM,MANU_CODE,DESCRIPTION,UNIT_PRICE,UNIT,UNIT_DESCR) VALUES ('313','ANZ','swim cap','60','box','12/box');\n",
      "INSERT INTO CHUDNOVETS_STOCK (STOCK_NUM,MANU_CODE,DESCRIPTION,UNIT_PRICE,UNIT,UNIT_DESCR) VALUES ('313','SHM','swim cap','72','box','12/box');\n"
     ]
    }
   ],
   "source": [
    "STOCK_path = data_path + os.sep + data_list[5]\n",
    "with open(STOCK_path, \"r\") as f_obj:\n",
    "    csv_write_to_table(f_obj, 'CHUDNOVETS_STOCK')"
   ]
  },
  {
   "cell_type": "code",
   "execution_count": 143,
   "metadata": {},
   "outputs": [
    {
     "name": "stdout",
     "output_type": "stream",
     "text": [
      "MANU_CODE,MANU_NAME,LEAD_TIME\n",
      "INSERT INTO CHUDNOVETS_MANUFACT (MANU_CODE,MANU_NAME,LEAD_TIME) VALUES ('ANZ','Anza','5');\n",
      "INSERT INTO CHUDNOVETS_MANUFACT (MANU_CODE,MANU_NAME,LEAD_TIME) VALUES ('HRO','Hero','4');\n",
      "INSERT INTO CHUDNOVETS_MANUFACT (MANU_CODE,MANU_NAME,LEAD_TIME) VALUES ('HSK','Husky','5');\n",
      "INSERT INTO CHUDNOVETS_MANUFACT (MANU_CODE,MANU_NAME,LEAD_TIME) VALUES ('KAR','Karsten','21');\n",
      "INSERT INTO CHUDNOVETS_MANUFACT (MANU_CODE,MANU_NAME,LEAD_TIME) VALUES ('NKL','Nikolus','8');\n",
      "INSERT INTO CHUDNOVETS_MANUFACT (MANU_CODE,MANU_NAME,LEAD_TIME) VALUES ('NRG','Norge','7');\n",
      "INSERT INTO CHUDNOVETS_MANUFACT (MANU_CODE,MANU_NAME,LEAD_TIME) VALUES ('PRC','ProCycle','9');\n",
      "INSERT INTO CHUDNOVETS_MANUFACT (MANU_CODE,MANU_NAME,LEAD_TIME) VALUES ('SHM','Shimara','30');\n",
      "INSERT INTO CHUDNOVETS_MANUFACT (MANU_CODE,MANU_NAME,LEAD_TIME) VALUES ('SMT','Smith','3');\n"
     ]
    }
   ],
   "source": [
    "MANUFACT_path = data_path + os.sep + data_list[2]\n",
    "with open(MANUFACT_path, \"r\") as f_obj:\n",
    "    csv_write_to_table(f_obj, 'CHUDNOVETS_MANUFACT')"
   ]
  },
  {
   "cell_type": "code",
   "execution_count": 146,
   "metadata": {},
   "outputs": [
    {
     "name": "stdout",
     "output_type": "stream",
     "text": [
      "CODE,SNAME\n",
      "INSERT INTO CHUDNOVETS_STATE (CODE,SNAME) VALUES ('AK','Alaska');\n",
      "INSERT INTO CHUDNOVETS_STATE (CODE,SNAME) VALUES ('AL','Alabama');\n",
      "INSERT INTO CHUDNOVETS_STATE (CODE,SNAME) VALUES ('AR','Arkansas');\n",
      "INSERT INTO CHUDNOVETS_STATE (CODE,SNAME) VALUES ('AZ','Arizona');\n",
      "INSERT INTO CHUDNOVETS_STATE (CODE,SNAME) VALUES ('CA','California');\n",
      "INSERT INTO CHUDNOVETS_STATE (CODE,SNAME) VALUES ('CO','Colorado');\n",
      "INSERT INTO CHUDNOVETS_STATE (CODE,SNAME) VALUES ('CT','Connecticut');\n",
      "INSERT INTO CHUDNOVETS_STATE (CODE,SNAME) VALUES ('DC','D.C.');\n",
      "INSERT INTO CHUDNOVETS_STATE (CODE,SNAME) VALUES ('DE','Delaware');\n",
      "INSERT INTO CHUDNOVETS_STATE (CODE,SNAME) VALUES ('FL','Florida');\n",
      "INSERT INTO CHUDNOVETS_STATE (CODE,SNAME) VALUES ('GA','Georgia');\n",
      "INSERT INTO CHUDNOVETS_STATE (CODE,SNAME) VALUES ('HI','Hawaii');\n",
      "INSERT INTO CHUDNOVETS_STATE (CODE,SNAME) VALUES ('IA','Iowa');\n",
      "INSERT INTO CHUDNOVETS_STATE (CODE,SNAME) VALUES ('ID','Idaho');\n",
      "INSERT INTO CHUDNOVETS_STATE (CODE,SNAME) VALUES ('IL','Illinois');\n",
      "INSERT INTO CHUDNOVETS_STATE (CODE,SNAME) VALUES ('IN','Indiana');\n",
      "INSERT INTO CHUDNOVETS_STATE (CODE,SNAME) VALUES ('KS','Kansas');\n",
      "INSERT INTO CHUDNOVETS_STATE (CODE,SNAME) VALUES ('KY','Kentucky');\n",
      "INSERT INTO CHUDNOVETS_STATE (CODE,SNAME) VALUES ('LA','Louisiana');\n",
      "INSERT INTO CHUDNOVETS_STATE (CODE,SNAME) VALUES ('MA','Massachusetts');\n",
      "INSERT INTO CHUDNOVETS_STATE (CODE,SNAME) VALUES ('MD','Maryland');\n",
      "INSERT INTO CHUDNOVETS_STATE (CODE,SNAME) VALUES ('ME','Maine');\n",
      "INSERT INTO CHUDNOVETS_STATE (CODE,SNAME) VALUES ('MI','Michigan');\n",
      "INSERT INTO CHUDNOVETS_STATE (CODE,SNAME) VALUES ('MN','Minnesota');\n",
      "INSERT INTO CHUDNOVETS_STATE (CODE,SNAME) VALUES ('MO','Missouri');\n",
      "INSERT INTO CHUDNOVETS_STATE (CODE,SNAME) VALUES ('MS','Mississippi');\n",
      "INSERT INTO CHUDNOVETS_STATE (CODE,SNAME) VALUES ('MT','Montana');\n",
      "INSERT INTO CHUDNOVETS_STATE (CODE,SNAME) VALUES ('NC','North Carolina');\n",
      "INSERT INTO CHUDNOVETS_STATE (CODE,SNAME) VALUES ('ND','North Dakota');\n",
      "INSERT INTO CHUDNOVETS_STATE (CODE,SNAME) VALUES ('NE','Nebraska');\n",
      "INSERT INTO CHUDNOVETS_STATE (CODE,SNAME) VALUES ('NH','New Hampshire');\n",
      "INSERT INTO CHUDNOVETS_STATE (CODE,SNAME) VALUES ('NJ','New Jersey');\n",
      "INSERT INTO CHUDNOVETS_STATE (CODE,SNAME) VALUES ('NM','New Mexico');\n",
      "INSERT INTO CHUDNOVETS_STATE (CODE,SNAME) VALUES ('NV','Nevada');\n",
      "INSERT INTO CHUDNOVETS_STATE (CODE,SNAME) VALUES ('NY','New York');\n",
      "INSERT INTO CHUDNOVETS_STATE (CODE,SNAME) VALUES ('OH','Ohio');\n",
      "INSERT INTO CHUDNOVETS_STATE (CODE,SNAME) VALUES ('OK','Oklahoma');\n",
      "INSERT INTO CHUDNOVETS_STATE (CODE,SNAME) VALUES ('OR','Oregon');\n",
      "INSERT INTO CHUDNOVETS_STATE (CODE,SNAME) VALUES ('PA','Pennsylvania');\n",
      "INSERT INTO CHUDNOVETS_STATE (CODE,SNAME) VALUES ('PR','Puerto Rico');\n",
      "INSERT INTO CHUDNOVETS_STATE (CODE,SNAME) VALUES ('RI','Rhode Island');\n",
      "INSERT INTO CHUDNOVETS_STATE (CODE,SNAME) VALUES ('SC','South Carolina');\n",
      "INSERT INTO CHUDNOVETS_STATE (CODE,SNAME) VALUES ('SD','South Dakota');\n",
      "INSERT INTO CHUDNOVETS_STATE (CODE,SNAME) VALUES ('TN','Tennessee');\n",
      "INSERT INTO CHUDNOVETS_STATE (CODE,SNAME) VALUES ('TX','Texas');\n",
      "INSERT INTO CHUDNOVETS_STATE (CODE,SNAME) VALUES ('UT','Utah');\n",
      "INSERT INTO CHUDNOVETS_STATE (CODE,SNAME) VALUES ('VA','Virginia');\n",
      "INSERT INTO CHUDNOVETS_STATE (CODE,SNAME) VALUES ('VT','Vermont');\n",
      "INSERT INTO CHUDNOVETS_STATE (CODE,SNAME) VALUES ('WA','Washington');\n",
      "INSERT INTO CHUDNOVETS_STATE (CODE,SNAME) VALUES ('WI','Wisconsin');\n",
      "INSERT INTO CHUDNOVETS_STATE (CODE,SNAME) VALUES ('WV','West Virginia');\n",
      "INSERT INTO CHUDNOVETS_STATE (CODE,SNAME) VALUES ('WY','Wyoming');\n"
     ]
    }
   ],
   "source": [
    "STATE_path = data_path + os.sep + data_list[1]\n",
    "with open(STATE_path, \"r\") as f_obj:\n",
    "    csv_write_to_table(f_obj, 'CHUDNOVETS_STATE')"
   ]
  },
  {
   "cell_type": "code",
   "execution_count": null,
   "metadata": {},
   "outputs": [],
   "source": []
  }
 ],
 "metadata": {
  "kernelspec": {
   "display_name": "Python 3",
   "language": "python",
   "name": "python3"
  },
  "language_info": {
   "codemirror_mode": {
    "name": "ipython",
    "version": 3
   },
   "file_extension": ".py",
   "mimetype": "text/x-python",
   "name": "python",
   "nbconvert_exporter": "python",
   "pygments_lexer": "ipython3",
   "version": "3.8.5"
  }
 },
 "nbformat": 4,
 "nbformat_minor": 4
}
